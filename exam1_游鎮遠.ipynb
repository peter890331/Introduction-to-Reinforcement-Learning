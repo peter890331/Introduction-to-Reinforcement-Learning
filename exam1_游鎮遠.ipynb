{
  "cells": [
    {
      "cell_type": "markdown",
      "metadata": {
        "id": "XcZa75u8IysS"
      },
      "source": [
        "#11110EE466000 Introduction of Reinforcement Learning Exam 1\n"
      ]
    },
    {
      "cell_type": "markdown",
      "metadata": {
        "id": "y6qT_jVY7GmZ"
      },
      "source": [
        "Scoring rule: \n",
        "\n",
        "ONLY modify your code in the comment block to ensure your functions can be tested correctly."
      ]
    },
    {
      "cell_type": "markdown",
      "metadata": {
        "id": "jA_TjRn1X_2y"
      },
      "source": [
        "Please run the following block first."
      ]
    },
    {
      "cell_type": "code",
      "execution_count": 1,
      "metadata": {
        "id": "CiQCVuUEKyqU"
      },
      "outputs": [],
      "source": [
        "import numpy as np\n",
        "import numpy.random as rd\n",
        "import matplotlib.pyplot as plt\n"
      ]
    },
    {
      "cell_type": "markdown",
      "metadata": {
        "id": "qfunRYuE_05T"
      },
      "source": [
        "## Problem 1 Average (10%)"
      ]
    },
    {
      "cell_type": "markdown",
      "metadata": {
        "id": "z1SplczhOENe"
      },
      "source": [
        "### 1.1 (10%):Average function\n",
        "Given a list of rewards, please return a list of average rewards.\n",
        "That is, the $n^{th}$ element in the output list is the average of $1^{st}$ to $n^{th}$ elements of input.\n",
        "\n",
        "---\n"
      ]
    },
    {
      "cell_type": "markdown",
      "metadata": {
        "id": "hhswKhli0PxM"
      },
      "source": [
        "\n",
        "For example\n",
        "\n",
        "input = [1, 2, 3, 4, 5, 6, 7, 8, 9, 10, 11, 12, 13, 14]\n",
        "\n",
        "output = [1.0, 1.5, 2.0, 2.5, 3.0, 3.5, 4.0, 4.5, 5.0, 5.5, 6.0, 6.5, 7.0, 7.5]\n",
        "\n",
        "---\n",
        "\n",
        "input = [-1, -2, 30, 45, 58, 61, 722, 879]\n",
        "\n",
        "output = [-1.0, -1.5, 9.0, 18.0, 26.0, 31.833333333333332, 130.42857142857142, 224.0]\n",
        "\n",
        "---"
      ]
    },
    {
      "cell_type": "code",
      "execution_count": 241,
      "metadata": {
        "id": "_khB0eUeXOik"
      },
      "outputs": [],
      "source": [
        "def problem1_1(rewards):\n",
        "\n",
        "###### Your code here ######\n",
        "  average_rewards = []\n",
        "  for i in range(0, len(rewards)):\n",
        "    average_rewards= np.append(average_rewards, [np.sum(rewards[0:i+1])/(i+1)])\n",
        "################################\n",
        "\n",
        "  return average_rewards.tolist()"
      ]
    },
    {
      "cell_type": "markdown",
      "metadata": {
        "id": "qw0fjKXQ456r"
      },
      "source": [
        "####Test your function"
      ]
    },
    {
      "cell_type": "code",
      "execution_count": 242,
      "metadata": {
        "id": "TJFcN5zqYeLn",
        "colab": {
          "base_uri": "https://localhost:8080/"
        },
        "outputId": "aeb05989-7386-4c55-f785-5fa42a5ceb60"
      },
      "outputs": [
        {
          "output_type": "stream",
          "name": "stdout",
          "text": [
            "example1 result: [1.0, 1.5, 2.0, 2.5, 3.0, 3.5, 4.0, 4.5, 5.0, 5.5, 6.0, 6.5, 7.0, 7.5]\n",
            "example2 result: [-1.0, -1.5, 9.0, 18.0, 26.0, 31.833333333333332, 130.42857142857142, 224.0]\n"
          ]
        }
      ],
      "source": [
        "print(\"example1 result:\",problem1_1([1,2,3,4,5,6,7,8,9,10,11,12,13,14]))\n",
        "print(\"example2 result:\",problem1_1([-1,-2,30,45,58,61,722,879]))"
      ]
    },
    {
      "cell_type": "markdown",
      "metadata": {
        "id": "41gXRErvS89v"
      },
      "source": [
        "## Problem 2 k-armed bandit environment (30%)\n",
        "Implement a k-armed bandit environment.\n"
      ]
    },
    {
      "cell_type": "markdown",
      "metadata": {
        "id": "KD0rWPcH4nrn"
      },
      "source": [
        "### 2.1 (10%):  Epsilon greedy function\n",
        "Implement epsilon greedy function: the inputs are epsilon and q_values, and the output is an action which is an integer."
      ]
    },
    {
      "cell_type": "markdown",
      "metadata": {
        "id": "33LVuiC0ad1g"
      },
      "source": [
        "\n",
        "\n",
        "For example,\n",
        "\n",
        "input: q_values = [10, 80, -30, 30, 60], epsilon = 0.5\n",
        "\n",
        "output: action = 1 for 50% of the time, giving random action 50% of the time.\n",
        "\n",
        "We will run this function several times, and use histogram to evaluate your answer.\n",
        "\n",
        "![123.png](data:image/png;base64,iVBORw0KGgoAAAANSUhEUgAAAXcAAAD4CAYAAAAXUaZHAAAABHNCSVQICAgIfAhkiAAAAAlwSFlzAAALEgAACxIB0t1+/AAAADh0RVh0U29mdHdhcmUAbWF0cGxvdGxpYiB2ZXJzaW9uMy4yLjIsIGh0dHA6Ly9tYXRwbG90bGliLm9yZy+WH4yJAAAO2klEQVR4nO3df4xdZZ3H8fdnKajBHwWZbZq27JDYaMgmApkgBmNcGo2AsfyhRLMrXdKk/7AbjJto3X82JvsH/iNKdkPSiLtl11UJamiUoE2BGJMFnUpFobrMEkjbAK0KKEtcg373j3nYHcq0c2fm3rk7z7xfyc19nuc8957vCZnPHJ455zRVhSSpL3807gIkScNnuEtShwx3SeqQ4S5JHTLcJalD68ZdAMB5551Xk5OT4y5DklaVgwcP/qKqJubb9v8i3CcnJ5menh53GZK0qiR58lTbXJaRpA4Z7pLUIcNdkjpkuEtShwx3SeqQ4S5JHTLcJalDA4V7kvVJ7kzysySHk7wzyblJ9id5rL2f0+YmyS1JZpI8nOSS0R6CJOlkg565fwG4p6reBrwdOAzsBg5U1VbgQOsDXAlsba9dwK1DrViStKAF71BN8ibg3cBfAlTV74DfJdkOvKdN2wvcD3wK2A7cXrP/CsgD7ax/Y1U9NfTq16jJ3d8edwkr7ombrh53CdKqMsiZ+wXACeCfkjyU5ItJzgY2zAnsp4ENrb0JODLn80fb2Csk2ZVkOsn0iRMnln4EkqRXGSTc1wGXALdW1cXAf/F/SzAAtLP0Rf17fVW1p6qmqmpqYmLe595IkpZokHA/Chytqgdb/05mw/6ZJBsB2vvxtv0YsGXO5ze3MUnSClkw3KvqaeBIkre2oW3Ao8A+YEcb2wHc1dr7gOvaVTOXAc+73i5JK2vQR/7+NfDlJGcBjwPXM/uL4Y4kO4EngWvb3LuBq4AZ4MU2V5K0ggYK96o6BEzNs2nbPHMLuGGZdUmSlsE7VCWpQ4a7JHXIcJekDhnuktQhw12SOmS4S1KHDHdJ6pDhLkkdMtwlqUOGuyR1yHCXpA4Z7pLUIcNdkjpkuEtShwx3SeqQ4S5JHTLcJalDhrskdchwl6QOGe6S1CHDXZI6ZLhLUocMd0nqkOEuSR0y3CWpQwOFe5InkvwkyaEk023s3CT7kzzW3s9p40lyS5KZJA8nuWSUByBJerXFnLn/WVVdVFVTrb8bOFBVW4EDrQ9wJbC1vXYBtw6rWEnSYJazLLMd2Nvae4Fr5ozfXrMeANYn2biM/UiSFmnQcC/gu0kOJtnVxjZU1VOt/TSwobU3AUfmfPZoG5MkrZB1A857V1UdS/LHwP4kP5u7saoqSS1mx+2XxC6A888/fzEflSQtYKAz96o61t6PA98ELgWeeXm5pb0fb9OPAVvmfHxzGzv5O/dU1VRVTU1MTCz9CCRJr7JguCc5O8kbXm4D7wN+CuwDdrRpO4C7WnsfcF27auYy4Pk5yzeSpBUwyLLMBuCbSV6e/29VdU+SHwJ3JNkJPAlc2+bfDVwFzAAvAtcPvWpJ0mktGO5V9Tjw9nnGfwlsm2e8gBuGUp0kaUm8Q1WSOmS4S1KHDHdJ6pDhLkkdMtwlqUOGuyR1yHCXpA4Z7pLUIcNdkjpkuEtShwx3SeqQ4S5JHTLcJalDhrskdchwl6QOGe6S1CHDXZI6ZLhLUocMd0nqkOEuSR0y3CWpQ4a7JHXIcJekDhnuktQhw12SOmS4S1KHBg73JGckeSjJt1r/giQPJplJ8rUkZ7Xx17T+TNs+OZrSJUmnspgz9xuBw3P6nwVurqq3AM8CO9v4TuDZNn5zmydJWkEDhXuSzcDVwBdbP8AVwJ1tyl7gmtbe3vq07dvafEnSChn0zP3zwCeBP7T+m4Hnquql1j8KbGrtTcARgLb9+Tb/FZLsSjKdZPrEiRNLLF+SNJ8Fwz3JB4DjVXVwmDuuqj1VNVVVUxMTE8P8akla89YNMOdy4INJrgJeC7wR+AKwPsm6dna+GTjW5h8DtgBHk6wD3gT8cuiVS5JOacEz96r6dFVtrqpJ4CPAvVX158B9wIfatB3AXa29r/Vp2++tqhpq1ZKk01rOde6fAj6RZIbZNfXb2vhtwJvb+CeA3csrUZK0WIMsy/yvqrofuL+1HwcunWfOb4EPD6E2SdISeYeqJHXIcJekDhnuktQhw12SOmS4S1KHDHdJ6pDhLkkdMtwlqUOGuyR1yHCXpA4Z7pLUIcNdkjpkuEtShwx3SeqQ4S5JHTLcJalDhrskdchwl6QOGe6S1CHDXZI6ZLhLUocMd0nqkOEuSR0y3CWpQ4a7JHVowXBP8tokP0jy4ySPJPlMG78gyYNJZpJ8LclZbfw1rT/Ttk+O9hAkSScb5Mz9v4ErqurtwEXA+5NcBnwWuLmq3gI8C+xs83cCz7bxm9s8SdIKWjDca9YLrXtmexVwBXBnG98LXNPa21uftn1bkgytYknSggZac09yRpJDwHFgP/CfwHNV9VKbchTY1NqbgCMAbfvzwJvn+c5dSaaTTJ84cWJ5RyFJeoWBwr2qfl9VFwGbgUuBty13x1W1p6qmqmpqYmJiuV8nSZpjUVfLVNVzwH3AO4H1Sda1TZuBY619DNgC0La/CfjlUKqVJA1kkKtlJpKsb+3XAe8FDjMb8h9q03YAd7X2vtanbb+3qmqYRUuSTm/dwlPYCOxNcgazvwzuqKpvJXkU+GqSvwceAm5r828D/iXJDPAr4CMjqFuSdBoLhntVPQxcPM/448yuv588/lvgw0OpTpK0JN6hKkkdMtwlqUOGuyR1yHCXpA4Z7pLUIcNdkjpkuEtShwx3SeqQ4S5JHTLcJalDhrskdchwl6QOGe6S1CHDXZI6ZLhLUocMd0nqkOEuSR0y3CWpQ4a7JHXIcJekDhnuktQhw12SOmS4S1KHDHdJ6pDhLkkdWjDck2xJcl+SR5M8kuTGNn5ukv1JHmvv57TxJLklyUySh5NcMuqDkCS90iBn7i8Bf1NVFwKXATckuRDYDRyoqq3AgdYHuBLY2l67gFuHXrUk6bQWDPeqeqqqftTavwEOA5uA7cDeNm0vcE1rbwdur1kPAOuTbBx65ZKkU1rUmnuSSeBi4EFgQ1U91TY9DWxo7U3AkTkfO9rGTv6uXUmmk0yfOHFikWVLkk5n4HBP8nrg68DHq+rXc7dVVQG1mB1X1Z6qmqqqqYmJicV8VJK0gIHCPcmZzAb7l6vqG234mZeXW9r78TZ+DNgy5+Ob25gkaYUMcrVMgNuAw1X1uTmb9gE7WnsHcNec8evaVTOXAc/PWb6RJK2AdQPMuRz4GPCTJIfa2N8CNwF3JNkJPAlc27bdDVwFzAAvAtcPtWJJ0oIWDPeq+j6QU2zeNs/8Am5YZl2SpGXwDlVJ6pDhLkkdMtwlqUOGuyR1yHCXpA4Z7pLUIcNdkjpkuEtShwx3SeqQ4S5JHTLcJalDhrskdchwl6QOGe6S1CHDXZI6ZLhLUocMd0nqkOEuSR0y3CWpQ4a7JHXIcJekDhnuktQhw12SOmS4S1KHDHdJ6tCC4Z7kS0mOJ/npnLFzk+xP8lh7P6eNJ8ktSWaSPJzkklEWL0ma37oB5vwz8A/A7XPGdgMHquqmJLtb/1PAlcDW9noHcGt7l6QFTe7+9rhLWHFP3HT1SL53wXCvqu8lmTxpeDvwntbeC9zPbLhvB26vqgIeSLI+ycaqempYBWtt8odeWpylrrlvmBPYTwMbWnsTcGTOvKNtTJK0ggZZljmtqqoktdjPJdkF7AI4//zzl1uG1J21+H8rGp6lnrk/k2QjQHs/3saPAVvmzNvcxl6lqvZU1VRVTU1MTCyxDEnSfJYa7vuAHa29A7hrzvh17aqZy4DnXW+XpJW34LJMkq8w+8fT85IcBf4OuAm4I8lO4Eng2jb9buAqYAZ4Ebh+BDVLkhYwyNUyHz3Fpm3zzC3ghuUWJUlanmX/QXXc/KOTJL2ajx+QpA4Z7pLUIcNdkjpkuEtShwx3SeqQ4S5JHTLcJalDhrskdchwl6QOGe6S1CHDXZI6ZLhLUocMd0nqkOEuSR0y3CWpQ4a7JHXIcJekDhnuktQhw12SOmS4S1KHDHdJ6pDhLkkdMtwlqUOGuyR1yHCXpA6NJNyTvD/Jz5PMJNk9in1Ikk5t6OGe5AzgH4ErgQuBjya5cNj7kSSd2ijO3C8FZqrq8ar6HfBVYPsI9iNJOoV1I/jOTcCROf2jwDtOnpRkF7CrdV9I8vMl7u884BdL/Oxq5TGvDR7zGpDPLuuY/+RUG0YR7gOpqj3AnuV+T5LpqpoaQkmrhse8NnjMa8OojnkUyzLHgC1z+pvbmCRphYwi3H8IbE1yQZKzgI8A+0awH0nSKQx9WaaqXkryV8B3gDOAL1XVI8PezxzLXtpZhTzmtcFjXhtGcsypqlF8ryRpjLxDVZI6ZLhLUodWdbivtcccJPlSkuNJfjruWlZKki1J7kvyaJJHktw47ppGLclrk/wgyY/bMX9m3DWthCRnJHkoybfGXctKSPJEkp8kOZRkeujfv1rX3NtjDv4DeC+zN0r9EPhoVT061sJGKMm7gReA26vqT8ddz0pIshHYWFU/SvIG4CBwTef/nQOcXVUvJDkT+D5wY1U9MObSRirJJ4Ap4I1V9YFx1zNqSZ4ApqpqJDdtreYz9zX3mIOq+h7wq3HXsZKq6qmq+lFr/wY4zOxd0N2qWS+07pnttTrPwgaUZDNwNfDFcdfSi9Uc7vM95qDrH/q1LskkcDHw4HgrGb22RHEIOA7sr6rej/nzwCeBP4y7kBVUwHeTHGyPYxmq1RzuWkOSvB74OvDxqvr1uOsZtar6fVVdxOwd3pcm6XYZLskHgONVdXDctaywd1XVJcw+QfeGtuw6NKs53H3MwRrR1p2/Dny5qr4x7npWUlU9B9wHvH/ctYzQ5cAH2xr0V4ErkvzreEsavao61t6PA99kdql5aFZzuPuYgzWg/XHxNuBwVX1u3PWshCQTSda39uuYvWjgZ+OtanSq6tNVtbmqJpn9Ob63qv5izGWNVJKz2wUCJDkbeB8w1KvgVm24V9VLwMuPOTgM3DHixxyMXZKvAP8OvDXJ0SQ7x13TCrgc+BizZ3OH2uuqcRc1YhuB+5I8zOxJzP6qWhOXB64hG4DvJ/kx8APg21V1zzB3sGovhZQkndqqPXOXJJ2a4S5JHTLcJalDhrskdchwl6QOGe6S1CHDXZI69D9UF8YeFNd3LQAAAABJRU5ErkJggg==)\n",
        "\n",
        "\n",
        "\n",
        "---\n",
        "\n",
        "\n",
        "\n",
        "input q_values = [10, 50, 60, 70, 50, 30, -10], epislon = 0.8\n",
        "\n",
        "output: action = 3 for 20% of the time, giving random action 80% of the time.\n",
        "\n",
        "![1234.png](data:image/png;base64,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)"
      ]
    },
    {
      "cell_type": "code",
      "execution_count": 257,
      "metadata": {
        "id": "bx1dhF5Nbxf7"
      },
      "outputs": [],
      "source": [
        "def problem2_1(q_value,epsilon):\n",
        "###### Your code here ######\n",
        "  randon_number = rd.rand()\n",
        "  if randon_number > epsilon:\n",
        "      action = np.argmax(q_value)\n",
        "  else:\n",
        "      action = rd.randint(0,len(q_value))\n",
        "  \n",
        "################################\n",
        "  return action"
      ]
    },
    {
      "cell_type": "markdown",
      "metadata": {
        "id": "s8vMjSZaoTCT"
      },
      "source": [
        "#### Test your function"
      ]
    },
    {
      "cell_type": "code",
      "execution_count": 258,
      "metadata": {
        "id": "hxODqNN0ctZd",
        "colab": {
          "base_uri": "https://localhost:8080/",
          "height": 517
        },
        "outputId": "50c144cb-90c5-4e85-a1b8-b40e44c9ad1b"
      },
      "outputs": [
        {
          "output_type": "display_data",
          "data": {
            "text/plain": [
              "<Figure size 432x288 with 1 Axes>"
            ],
            "image/png": "[encoded data removed]"
          },
          "metadata": {
            "needs_background": "light"
          }
        },
        {
          "output_type": "display_data",
          "data": {
            "text/plain": [
              "<Figure size 432x288 with 1 Axes>"
            ],
            "image/png": "[encoded data removed]"
          },
          "metadata": {
            "needs_background": "light"
          }
        }
      ],
      "source": [
        "test = [problem2_1([10,80,-30,30,60],0.5) for i in range(1000)]\n",
        "plt.hist(test,[0,1,2,3,4,5])\n",
        "plt.show()\n",
        "\n",
        "test = [problem2_1([10, 50, 60, 70, 50, 30, -10], 0.8) for i in range(1000)]\n",
        "plt.hist(test,[0,1,2,3,4,5,6,7,8])\n",
        "plt.show()"
      ]
    },
    {
      "cell_type": "markdown",
      "metadata": {
        "id": "8ctX3ArGdtud"
      },
      "source": [
        "### 2.2 (10%): q-value update\n",
        "\n",
        "Implement the q-value update rule under a non-stationary environment. \n",
        "\n",
        "The inputs are the list of q-values, an action and the corresponding reward. \n",
        "\n",
        "Update the q-values in your function and return the new q-values in a list form."
      ]
    },
    {
      "cell_type": "markdown",
      "metadata": {
        "id": "4ocxVWQNSOyP"
      },
      "source": [
        "For example,\n",
        "\n",
        "Input: q_value = [1, 5, 9, 2, 6, 7], action = 2, reward = 7\n",
        "\n",
        "The output should be something like: new_q_value = [1, 5, <font color=#FF0000>8</font> (depends on your design), 2, 6, 7]\n",
        "\n",
        "You should design your updated rule properly to get better average rewards when testing."
      ]
    },
    {
      "cell_type": "code",
      "execution_count": 224,
      "metadata": {
        "id": "rR5OP25KeNHr"
      },
      "outputs": [],
      "source": [
        "def problem2_2(q_value, action, reward):\n",
        "  \n",
        "###### Your code here ######\n",
        "  q_value[action] = reward\n",
        "  new_q_value = q_value # you should change this.\n",
        "################################\n",
        "  return new_q_value"
      ]
    },
    {
      "cell_type": "markdown",
      "metadata": {
        "id": "JAuUmmysBvOM"
      },
      "source": [
        "###2.3 (10%):  k-armed bandit algorithm\n",
        "\n",
        "The initial rewards are [5, 4, 2, 1, 2, 5], but it will change to [5, 4, 20, 10, 2, 5] after reaching 500 steps.\n",
        "\n",
        "If you implement the update function correctly, your average reward should reach over 15 at the end of the trail.\n",
        "\n",
        "  In order to complete k-armed bandit algorithm, please use the following function in code block.\n",
        "  \n",
        "  \n",
        "  - step(action,i)\n",
        "  - rewards.append(reward)\n",
        "  - problem2_1(q_value,0.1)\n",
        "  - problem2_2(q_value,action,reward)\n",
        "\n",
        "  "
      ]
    },
    {
      "cell_type": "code",
      "execution_count": 222,
      "metadata": {
        "id": "mAW9Lozug73V"
      },
      "outputs": [],
      "source": [
        "def step(action,i):\n",
        "  rewards = [5,4,2,1,2,5]\n",
        "\n",
        "  if i>500:\n",
        "    rewards = [5,4,20,10,2,5]\n",
        "\n",
        "  return rewards[action]\n",
        "\n",
        "\n",
        "\n",
        "def problem2_3():\n",
        "  q_value = [0]*6\n",
        "  rewards = []\n",
        "\n",
        "  for i in range(4000): \n",
        "\n",
        "    ###### Your code here ######\n",
        "    action = problem2_1(q_value,0.1)\n",
        "    reward = step(action,i)\n",
        "    rewards.append(reward)\n",
        "    problem2_2(q_value,action,reward)\n",
        "    ################################\n",
        "  \n",
        "\n",
        "  return rewards\n"
      ]
    },
    {
      "cell_type": "markdown",
      "metadata": {
        "id": "5ZdxoW8NFFdi"
      },
      "source": [
        "#### Test your function"
      ]
    },
    {
      "cell_type": "markdown",
      "metadata": {
        "id": "-xcAATSwhseC"
      },
      "source": [
        "![image.png](data:image/png;base64,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)"
      ]
    },
    {
      "cell_type": "code",
      "execution_count": 259,
      "metadata": {
        "id": "hyRaBeKrThcV",
        "colab": {
          "base_uri": "https://localhost:8080/",
          "height": 283
        },
        "outputId": "5a2c4d04-3708-4e31-bf59-3c972566018b"
      },
      "outputs": [
        {
          "output_type": "execute_result",
          "data": {
            "text/plain": [
              "[<matplotlib.lines.Line2D at 0x7fdc92191190>]"
            ]
          },
          "metadata": {},
          "execution_count": 259
        },
        {
          "output_type": "display_data",
          "data": {
            "text/plain": [
              "<Figure size 432x288 with 1 Axes>"
            ],
            "image/png": "[encoded data removed]"
          },
          "metadata": {
            "needs_background": "light"
          }
        }
      ],
      "source": [
        "plt.plot([0]+problem1_1(problem2_3()))\n"
      ]
    },
    {
      "cell_type": "markdown",
      "metadata": {
        "id": "5pxqGA9tF4NK"
      },
      "source": [
        "## Problem 3 Dynamic programming for continuous task (20%)\n",
        "\n",
        "\n",
        "\n",
        "\n",
        "Given the following figure, please implement the corresponding environment.\n",
        "\n",
        "In this environment, the tiles in red represent walls.\n",
        "\n",
        "In this grid world, four actions can be taken: left, up, right and down.\n"
      ]
    },
    {
      "cell_type": "markdown",
      "metadata": {
        "id": "R10jLq9g2nHL"
      },
      "source": [
        "![image.png](data:image/png;base64,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)"
      ]
    },
    {
      "cell_type": "markdown",
      "metadata": {
        "id": "Rb5cTYeVGL8d"
      },
      "source": [
        "### 3.1 (10%): Environment\n",
        "Given a state and an action, please write a function that returns all the possible next-states and the corresponding rewards, if an agent moves to tile A, it will teleport into tile A', and gets 50 reward. When an agent is off the grid or hits the wall, its state will be unchanged.And all other transitions yield reward 0.\n",
        "\n",
        "The input state is a list, and the action should be chosen from the variable 'ACTIONS'.\n",
        "\n",
        "And the output is a list with [next_state, reward].\n",
        "\n",
        "Use the following logic in order: \n",
        "1. perform the action\n",
        "2. check if the state is out of bound -> this should be one of the return state\n",
        "---\n",
        "\n"
      ]
    },
    {
      "cell_type": "markdown",
      "metadata": {
        "id": "47bwVaDh2VZQ"
      },
      "source": [
        "For example, \n",
        "\n",
        "input = [1,1], ACTIONS[2]\n",
        "\n",
        "output = [[1,1], 0]\n",
        "\n",
        "\n",
        "\n",
        "---\n",
        "\n",
        "\n",
        "input = [4,4], ACTIONS[1]\n",
        "\n",
        "output = [[3,4], 0]\n",
        "\n",
        "\n",
        "---\n",
        "\n",
        "\n",
        "input = [1,0], ACTIONS[3]\n",
        "\n",
        "output = [[1,4], 50]\n",
        "\n",
        "\n",
        "---\n",
        "\n",
        "\n",
        "input = [3,1], ACTIONS[0]\n",
        "\n",
        "output = [[3,0], 0]\n",
        "\n",
        "\n",
        "---\n",
        "\n",
        "input = [0,4], ACTIONS[2]\n",
        "\n",
        "output = [[0,4], 0]\n"
      ]
    },
    {
      "cell_type": "code",
      "execution_count": 99,
      "metadata": {
        "id": "OTcN-22KF2hE"
      },
      "outputs": [],
      "source": [
        "ACTIONS = [np.array([0, -1]), np.array([-1, 0]), np.array([0, 1]), np.array([1, 0])] # left, up, right, down"
      ]
    },
    {
      "cell_type": "code",
      "execution_count": 260,
      "metadata": {
        "id": "-o28iXd-GE_i"
      },
      "outputs": [],
      "source": [
        "def problem3_1(state, action):\n",
        "  ###### Your code here ######\n",
        "  if state[0] == 1 and state[1] == 0:\n",
        "    return [1,4], 50\n",
        "\n",
        "  state = np.array(state)\n",
        "  next_state = (state + action).tolist()\n",
        "  x, y = next_state\n",
        "\n",
        "  if x in [1,2,3] and y == 2:\n",
        "    reward = 0\n",
        "    return state.tolist(), reward\n",
        "  elif x < 0 or x >= 5 or y < 0 or y >= 5:\n",
        "    reward = 0\n",
        "    return state.tolist(), reward\n",
        "  else:\n",
        "    reward = 0\n",
        "    return next_state, reward\n",
        "\n",
        "  ################################"
      ]
    },
    {
      "cell_type": "markdown",
      "metadata": {
        "id": "SjfAWTw5l53Y"
      },
      "source": [
        "#### Test your function"
      ]
    },
    {
      "cell_type": "code",
      "execution_count": 261,
      "metadata": {
        "id": "Q5M_wE_zGFNR",
        "colab": {
          "base_uri": "https://localhost:8080/"
        },
        "outputId": "5842d663-ed1d-43f1-c2c3-57dee233f93a"
      },
      "outputs": [
        {
          "output_type": "stream",
          "name": "stdout",
          "text": [
            "([1, 1], 0)\n",
            "([3, 4], 0)\n",
            "([1, 4], 50)\n",
            "([3, 0], 0)\n",
            "([0, 4], 0)\n"
          ]
        }
      ],
      "source": [
        "print(problem3_1([1,1], ACTIONS[2]))\n",
        "print(problem3_1([4,4], ACTIONS[1]))\n",
        "print(problem3_1([1,0], ACTIONS[3]))\n",
        "print(problem3_1([3,1], ACTIONS[0]))\n",
        "print(problem3_1([0,4], ACTIONS[2]))"
      ]
    },
    {
      "cell_type": "markdown",
      "metadata": {
        "id": "VJUhwjvw3Hh6"
      },
      "source": [
        "###3.2 (10%): Policy evaluation using dynamic programming\n",
        "Using the function in 3.1, please evaluate the optimal policy in the environment.\n",
        "\n",
        "Use the Bellman equation with transition probabilities to calculate the result.\n"
      ]
    },
    {
      "cell_type": "code",
      "execution_count": 213,
      "metadata": {
        "id": "wsXDKfI4g__n"
      },
      "outputs": [],
      "source": [
        "#hint: greedy action selection, notice discounted rate = 0.9\n",
        "def problem3_2():\n",
        "    \n",
        "    WORLD_SIZE=5\n",
        "    value = np.zeros((WORLD_SIZE, WORLD_SIZE))\n",
        "    next_value=[0,0,0,0]\n",
        "    while True:\n",
        "        # keeping iteratiing until convergence\n",
        "        ####################CODE############################\n",
        "        new_value = np.zeros(value.shape)\n",
        "        \n",
        "        for i in range(0, WORLD_SIZE):\n",
        "          for j in range(0, WORLD_SIZE):\n",
        "              values_temp = []\n",
        "              for action in ACTIONS:\n",
        "                  new_state, reward = problem3_1([i,j],action)\n",
        "                  # optimal value function\n",
        "                  values_temp.append(reward + 0.9 * value[new_state[0], new_state[1]])\n",
        "              new_value[i][j] = np.max(values_temp) \n",
        "        \n",
        "        if np.sum(np.abs(new_value - value)) < 1e-4:\n",
        "            new_value[1][2]=0\n",
        "            new_value[2][2]=0\n",
        "            new_value[3][2]=0\n",
        "            return new_value\n",
        "\n",
        "        value = new_value\n",
        "        ####################CODE############################"
      ]
    },
    {
      "cell_type": "code",
      "execution_count": 185,
      "metadata": {
        "id": "ichNEyhWGJmb"
      },
      "outputs": [],
      "source": [
        "from matplotlib.table import Table\n",
        "def draw_image(image):\n",
        "    fig, ax = plt.subplots()\n",
        "    ax.set_axis_off()\n",
        "    tb = Table(ax, bbox=[0, 0, 1, 1])\n",
        "\n",
        "    nrows, ncols = image.shape\n",
        "    width, height = 1.0 / ncols, 1.0 / nrows\n",
        "\n",
        "    # Add cells\n",
        "    for (i,j), val in np.ndenumerate(image):\n",
        "        # Index either the first or second item of bkg_colors based on\n",
        "        # a checker board pattern\n",
        "        idx = [j % 2, (j + 1) % 2][i % 2]\n",
        "        color = 'white'\n",
        "\n",
        "        tb.add_cell(i, j, width, height, text='%.2f' %image[i][j], \n",
        "                    loc='center', facecolor=color)\n",
        "\n",
        "    # Row Labels...\n",
        "    for i, label in enumerate(range(len(image))):\n",
        "        tb.add_cell(i, -1, width, height, text=label+1, loc='right', \n",
        "                    edgecolor='none', facecolor='none')\n",
        "    # Column Labels...\n",
        "    for j, label in enumerate(range(len(image))):\n",
        "        tb.add_cell(-1, j, width, height/2, text=label+1, loc='center', \n",
        "                           edgecolor='none', facecolor='none')\n",
        "    ax.add_table(tb)"
      ]
    },
    {
      "cell_type": "markdown",
      "source": [
        "#### Test your function\n",
        "No test data.\n",
        "\n",
        "<font color=#FF0000>\n",
        "\n",
        "**You need to give the correct answer in this problem.**\n",
        "</font>\n",
        "\n",
        "\n",
        "(Hint: We provide some final values that may help you check your result.\n",
        "\n",
        "value[2, 1] = 95,84, value[2, 3] = 0, value[5, 5] = 45.84) "
      ],
      "metadata": {
        "id": "csLyrE0CKznX"
      }
    },
    {
      "cell_type": "code",
      "execution_count": 256,
      "metadata": {
        "id": "Apppy30wQXB2",
        "colab": {
          "base_uri": "https://localhost:8080/",
          "height": 270
        },
        "outputId": "856ca76d-3415-40ea-bd7c-a85d69f2a3bb"
      },
      "outputs": [
        {
          "output_type": "display_data",
          "data": {
            "text/plain": [
              "<Figure size 432x288 with 1 Axes>"
            ],
            "image/png": "[encoded data removed]"
          },
          "metadata": {
            "needs_background": "light"
          }
        }
      ],
      "source": [
        "draw_image(problem3_2())"
      ]
    },
    {
      "cell_type": "markdown",
      "metadata": {
        "id": "Z2dsIhVf6AiC"
      },
      "source": [
        "## Problem 4 Dynamic programming for episodic task (40%)\n",
        "\n",
        "> Indented block\n",
        "\n",
        "\n",
        "Given the following figure, please implement the corresponding environment.\n",
        "\n",
        "In this environment, the tiles in green represent swamp. The yellow one represents the terminal state.\n",
        "\n",
        "In this grid world, four actions can be taken: left, up, right and down.\n",
        "\n",
        "Moreover, there is intermittent wind on the field. \n",
        "\n",
        "<font color=#FF0000>\n",
        "\n",
        "**After an action is taken, there is a 50% chance that the agent can be blown to the right, i.e., S'<-S'+(0,1) with the probability of 0.5**\n",
        "</font>"
      ]
    },
    {
      "cell_type": "markdown",
      "metadata": {
        "id": "Aa54MAQd65Xq"
      },
      "source": [
        "![image.png](data:image/png;base64,iVBORw0KGgoAAAANSUhEUgAAApQAAALZCAYAAAAJCbGOAAAgAElEQVR4Ae29MZLkONReO/7zFXIVY8pShNxnKkbmvwPZY2sRil7CW0G72kOvY9bSL8AsdrFzSACVvADPTZ6KqKjqbBK8+L4PuKeRNTV//PRDBVRABVRABVRABVRABU4o8MeJe71VBVRABVRABVRABVRABX4KlIZABVRABVRABVRABVTglAIC5Sn5vFkFVEAFVEAFVEAFVECgNAMqoAIqoAIqoAIqoAKnFBAoT8nnzSqgAiqgAiqgAiqgAgKlGVABFVABFVABFVABFTilgEB5Sj5vVgEVUAEVUAEVUAEVECjNgAqogAqogAqogAqowCkFBMpT8nmzCqiACqiACqiACqiAQGkGVEAFVEAFVEAFVEAFTikgUJ6Sz5tVQAVUQAVUQAVUQAUESjOgAiqgAiqgAiqgAipwSoEhQPnHH3/89FMNzIAZMANmwAyYATMQn4FT5Dfo5mFAOaheh31BgbKY/eAosGyu//c/fv7hJ0OD8g9gveBooB8cL8q60A+WHx+ecDraZyVDSEOA+RSY8J1+EFz4rMENGgbTNkxWw9QP/fAfePUMQA+JBMrPPv+23wmULGsFSoHSE9FKBgTKOkzMhi39YPnhCSWrod+tGoGS5bhAWYGJ2c3yY3MW8ECeCDAsgNEPlh8CJauh360agZLluEAJgheBEtksBXzQGhEokWuE1dUe1fiWN9GV4JoEymBBTw4nUIKapUCJbJYCJWiNCJTINXKyDQ25XaAcIitrUIGS54cN04ZpBg4yIMCwAEY/WH74lvd+Q//+/fvPv/76a/8vg1/98ePH8usPgodNMVwvUOrHHDu7Tyj/93//+cd/+09zNrP/8//e99eD2DDnZKw0wp5P/ejTqUfLiGu+4od71hzv/K+8/92sC0wWiNl+/Pnnn7/9UvTt37W+/+eff3679xlWy5+/ffvWGubt/r4XKKP9WIUsz3/2ovzdnf3oaqwFJssGvW0K//n/+S3jv/3d9rq97//nf/n93uexy/P+13/9/Xl747zba19pmO82d+J89IO1Br/iR+Se9f/9j9/3q1JH+Sz/+F1ze+M9a+2vpK+XveW9wt9WjAKTf//996+XCnCU13o+1vG2gFrCtx2vwOQe2PSMn/maHqBc9dvO84wfZZz1VPgIKO/sx68Ncd0Yn7+um+n29QKTBQrX18pmWl5b/1z7Wjbhcv16TQHHsjmX52xf216zvv7uX7/SMN9dC8L89ONzTWbyI3rPWsfbAuSzHmUfu+mete3VlO8vA8pnmFjho4DN+rG+Vr62Psp4z/BZXtvC1ApN22e0xn2Hv99qcDSfaD/Kc8pzy7gF6vdA/s5+/IK45w1y/fPzRrm+Jb0FwPW12oa7jrf3tTTu7SnluoFvn7F337u9JsDkBJh3yyF1Pr3rI3rPWvej2v62XnPDPeuol1/5+mVAWQDj+fTwGQhXKNmeOh6J9TxeuW4F0i1AFsjpGe/oORlf7wHKZ/32AL3M/RX9joDy1fEyerCtuWjYBMryr+7taWTZrPdOI5+hsLcprRvx82b96ni9zyVe1+MHse53rUk/2vvDTO97/Yjes472qOe533TP2vYUyveXAWWBxwIt68dZgHkGojLuHlA+P3d9/jt/7QHKZ13O+rHVswaUz8/d3veu33cBZYHHApHr5hkNlGW8vUbx/Nz1+e/8dU+Hd54vfW768bnuCV71+vG8d5zds1agLM9fP7f/yF61eX7u+vo7f/U/yvkdDwpIbE8KzwJML1CW67Yg+3tV7/mnXqCM9GOrZA0o7+rHL1A82vTKJrl9O/rs5rx9zrpRb8df/76cMpRnrX++w9fehnkHLQhz1A/W+uv1Y+SeVXK57lvP+9NN96xtj6V8f+kJZSTACJTHkRIoj7W54m92TwafG/nIzbk0iOdNeX3+TTfnWwH06jX1ay/AUOt/t7p6/Ri5Z62alhPKsketfy5fb7pnXdG7Ws+8FCi3J4UFLkuj3f68495b1kcTKqdg5dRz+7F36nnXt1i3uux9/6zLWT+2z6idUD4/d3vfu37fDZRb6CuniWVjL/9KXzfT9T/K2b62/t3R1zLG3ttG6/WlKWyfu77+zl97G+Y7a0Cam358rnGCL71+PO8dUXvWVoM9oHx+7vb6d/3et7x/x4O9E8XSMAt8rB/lmvK5fuxB4/p3K3xuTz3LeFtoLdeW17bXrPe/89cy59ZHtB/b59WA8q5+/ILCow2v/Kv7GfyeYbBcs/3Xerm+bK5HYz7fv3dduWbvrfC9a9/ltd6G+S7zpc9DP47X8BXe9foRvWeVf9hu96L1H9Db14oeN92ztj2W8n2bNF6otAdg9k4P118jswRk55dh18CklLmeqq33P8PkCp3bU9AXppfulqv8WH3Yft2eIt/Zj0PoWxtG2Uyf4XD9GaKygZbPLUyW+/b+9b4db71v+3X7jHXD/sqJ5zp+5q9Fj8z1v1vt+sHKY68f0XvW835X6nj+rRQ33rOIIHIZUL4CE6WJlvte/diD2FfHynRf0a31oR8theL+foHBFgS8slHubbit52z/fq8hbP/+Xb/vbZjvOn/avPQjJ1C6Z83zraOnx3Ws/pHapNE/1q8rewCmXFxOq3rffi4w+Hzi+OuBnd+Ut3XPjtH5KNRl+oGy43G62NPEy+nh89s7R/cVGCyfR3/f83o58Tw7Rs9zaNcIMOdyE+2nfuT1wz1rjncC5b+beoHJ7Vug/74i7pX17fS4EfOM1AuU+jHH064TytKkC0xu35KObtzb8da3l7av3eV7AWZOE+zNk37k9cM9a453AuWcZu1T/q1AL1D++05fGaFAN1D2NmCvO7eJCzDn9IvOn37oR3Sm3m08gXJEa3bMHgUEyh6V5l0jUP6HDfPdGlzkfARK10dknt5xLIFyXsP2Sb8rIFD+rsfVfxIoBcpTP+v6jg1yOyeBUqDc5sHv/50HgfLqNn7f5wuULO8FSoFSoKxkQKD8N0BcCVX6wfKjZEGgZDX1O1VDDd+dPNjOVaCswMQVjdOGyWqY+qEfV+wDmZ4pUG5bqt/PVECgnKl2+1kCpUDpCWUlAwKlQJkJ7q6oVaBsN1qvGKOAQDlG11dHFSgrMHHR5izggTwRKAXKK/aBTM8UKF9tv953VgGB8qyCsfcLlCB4KU1EgBFgMsHE7FpdH6z18bFnxXalmNEu/T/lxEzBUVoKCJQtheb+vQAjUHoiWsmAAMMCGP1g+SFQzm3YPu13BQTK3/W4+k8CZQUmZp++fGzOAh7IEwGGBTD6wfJDoLy6hd/7+QIly3+BEgQvAiWyWQr4oDUiUCLXCKurParxLW+iK8E1CZTBgp4cTqAENUuBEtksBUrQGhEokWvkZBsacrtAOURW1qACJc8PG6YN0wwcZECAYQGMfrD88C1vVkO/WzUCJctxTygPQKJslFd82jCv0f3Ia/3Qj6Ns+PojG/7aIFZTv1M1AiXLbYHyInA8akYCjABzlA1f99dqETMgULKa+p2qEShZbguUAuUlJ7HExrhXk4Av4O/lwtc+cyFQspr6naoRKFluC5QCpUBZyYBA+QkOBIjSD5YfJRMCJaup36kaavju5MF2rgJlBSauaKA2TFbD1A/9uGIfyPRMgXLbUv1+pgIC5Uy1288SKAVKTygrGRAoBcpMcHdFrQJlu9F6xRgFBMoxur46qkBZgYmLNmcBD+SJQClQXrEPZHqmQPlq+/W+swoIlGcVjL1foATBS2kiAowAkwkmZtfq+mCtj489K7YrxYzmLzaP0RE9ikDJskeAESg9Ea1kQIBhAYx+sPwQKFkN/W7VCJQsxwXKCkzMPn352JwFPJAnAgwLYPSD5YdAyWrod6tGoGQ5LlCC4EWgRDZLAR+0RgRK5BphdbVHNb7lTXQluCaBMljQk8MJlKBmKVAim6VACVojAiVyjZxsQ0NuFyiHyMoaVKDk+WHDtGGagYMMCDAsgNEPlh++5c1q6HerRqBkOe4J5QFIlI3yik8b5jW6H3mtH/pxlA1ff2TDXxvEaup3qkagZLktUF4EjkfNSIARYI6y4ev+Wi1iBgRKVlO/UzUCJcttgVKgvOQkltgY92oS8AX8vVz42mcuBEpWU79TNQIly22BUqAUKCsZECg/wYEAUfrB8qNkQqBkNfU7VUMN35082M5VoKzAxBUN1IbJapj6oR9X7AOZnilQbluq389UQKCcqXb7WQKlQOkJZSUDAqVAmQnurqhVoGw3Wq8Yo4BAOUbXV0cVKCswcdHmLOCBPBEoBcor9oFMzxQoX22/3ndWAYHyrIKx9wuUIHgpTUSAEWAywcTsWl0frPXxsWfFdqWY0fzF5jE6okcRKFn2CDACpSeilQwIMCyA0Q+WHwIlq6HfrRqBkuW4QFmBidmnLx+bs4AH8kSAYQGMfrD8EChZDf1u1QiULMcFShC8CJTIZingg9aIQIlcI6yu9qjGt7yJrgTXJFAGC3pyOIES1CwFSmSzFChBa0SgRK6Rk21oyO0C5RBZWYMKlDw/bJg2TDNwkAEBhgUw+sHyw7e8WQ39btUIlCzHPaE8AImyUV7xacO8Rvcjr/VDP46y4euPbPhrg1hN/U7VCJQstwXKi8DxqBkJMALMUTZ83V+rRcyAQMlq6neqRqBkuS1QCpSXnMQSG+NeTQK+gL+XC1/7zIVAyWrqd6pGoGS5LVAKlAJlJQMC5Sc4ECBKP1h+lEwIlKymfqdqqOG7kwfbuQqUFZi4ooHaMFkNUz/044p9INMzBcptS/X7mQoIlDPVbj9LoBQoPaGsZECgFCgzwd0VtQqU7UbrFWMUECjH6PrqqAJlBSYu2pwFPJAnAqVAecU+kOmZAuWr7df7ziogUJ5VMPZ+gRIEL6WJCDACTCaYmF2r64O1Pj72rNiuFDOav9g8Rkf0KAIlyx4BRqD0RLSSAQGGBTD6wfJDoGQ19LtVI1CyHBcoKzAx+/TlY3MW8ECeCDAsgNEPlh8CJauh360agZLluEAJgheBEtksBXzQGhEokWuE1dUe1fiWN9GV4JoEymBBTw4nUIKapUCJbJYCJWiNCJTINXKyDQ25XaAcIitrUIGS54cN04ZpBg4yIMCwAEY/WH74ljerod+tGoGS5bgnlAcgUTbKKz5tmNfofuS1fujHUTZ8/ZENf20Qq6nfqRqBkuW2QHkROB41IwFGgDnKhq/7a7WIGRAoWU39TtUIlCy3BUqB8pKTWGJj3KtJwBfw93Lha5+5EChZTf1O1QiULLcFSoFSoKxkQKD8BAcCROkHy4+SCYGS1dTvVA01fHfyYDtXgbICE1c0UBsmq2Hqh35csQ9keqZAuW2pfj9TAYFyptrtZwmUAqUnlJUMCJQCZSa4u6JWgbLdaL1ijAIC5RhdXx1VoKzAxEWbs4AH8kSgFCiv2AcyPVOgfLX9et9ZBQTKswrG3i9QguClNBEBRoDJBBOza3V9sNbHx54V25ViRvMXm8foiB5FoGTZI8AIlJ6IVjIgwLAARj9YfgiUrIZ+t2oESpbjAmUFJmafvnxszgIeyBMBhgUw+sHyQ6BkNfS7VSNQshwXKEHwIlAim6WAD1ojAiVyjbC62qMa3/ImuhJck0AZLOjJ4QRKULMUKJHNUqAErRGBErlGTrahIbcLlENkZQ0qUPL8sGHaMM3AQQYEGBbA6AfLD9/yZjX0u1UjULIc94TyACTKRnnFpw3zGt2PvNYP/TjKhq8/suGvDWI19TtVI1Cy3BYoLwLHo2YkwAgwR9nwdX+tFjEDAiWrqd+pGoGS5bZAKVBechJLbIx7NQn4Av5eLnztMxcCJaup36kagZLltkApUAqUlQwIlJ/gQIAo/WD5UTIhULKa+p2qoYbvTh5s5ypQVmDiigZqw2Q1TP3Qjyv2gUzPFCi3LdXvZyogUM5Uu/0sgVKg9ISykgGBUqDMBHdX1CpQthutV4xRQKAco+urowqUFZi4aHMW8ECeCJQC5RX7QKZnCpSvtl/vO6uAQHlWwdj7BUoQvJQmIsAIMJlgYnatrg/W+vjYs2K7Usxo/mLzGB3RowiULHsEGIHSE9FKBgQYFsDoB8sPgZLV0O9WjUDJclygrMDE7NOXj81ZwAN5IsCwAEY/WH4IlKyGfrdqBEqW4wIlCF4ESmSzFPBBa0SgRK4RVld7VONb3kRXgmsSKIMFPTmcQAlqlgIlslkKlKA1IlAi18jJNjTkdoFyiKysQQVKnh82TBumGTjIgADDAhj9YPnhW96shn63agRKluOeUB6ARNkor/i0YV6j+5HX+qEfR9nw9Uc2/LVBrKZ+p2oESpbbAuVF4HjUjAQYAeYoG77ur9UiZkCgZDX1O1UjULLcFigFyktOYomNca8mAV/A38uFr33mQqBkNfU7VSNQstwWKAVKgbKSAYHyExwIEKUfLD9KJgRKVlO/UzXU8N3Jg+1cBcoKTFzRQG2YrIapH/pxxT6Q6ZkC5bal+v1MBQTKmWq3nyVQCpSeUFYyIFAKlJng7opaBcp2o/WKMQoIlGN0fXVUgbICExdtzgIeyBOBUqC8Yh/I9EyB8tX2631nFRAozyoYe79ACYKX0kQEGAEmE0zMrtX1wVofH3tWbFeKGc1fbB6jI3oUgZJljwAjUHoiWsmAAMMCGP1g+SFQshr63aoRKFmOC5QVmJh9+vKxOQt4IE8EGBbA6AfLD4GS1dDvVo1AyXJcoATBi0CJbJYCPmiNCJTINcLqao9qfMub6EpwTQJlsKAnhxMoQc1SoEQ2S4EStEYESuQaOdmGhtwuUA6RlTWoQMnzw4ZpwzQDBxkQYFgAox8sP3zLm9XQ71aNQMly3BPKA5AoG+UVnzbMa3Q/8lo/9OMoG77+yMbdfm3Q0jTLxuCnGpgBM2AGzIAZMANmICwDrGOSRzW+5U10JbgmTyiDBT05nH6cFDD4dv0IFvTkcPpxUsDg2x9+FFTwk6IBdY0IlMGLjzgcNXxErWbUpB8zVO5/hn70azXjSv2YoXL/Mx5+CJMUmCx1UNeIQNm/rtJeSQ1fWkFPFq4fJwUMvl0/ggU9OZx+nBQw+PaHHwKlQNkOlkDZ1ij9FW7QLAv1Qz9YCrCqcX0Q/RAoBcp2LgXKtkbpr3CDZlmoH/rBUoBVjeuD6IdAKVC2cylQtjVKf4UbNMtC/dAPlgKsalwfRD8ESoGynUuBsq1R+ivcoFkW6od+sBRgVeP6IPohUAqU7VxeCpTfv3//+ddff7WrDLjix48f2P8yKmB61SF6N2j9qMoY9pe9foQ90IGqCuhHVZ7pf6kf0yWvPvDhRx9Qfv/+x8+//uq79iyg/fix/tfOc553tt7I+6lr5FKgLDBZIOb5o7z+imD//PPPb7809BlWy5+/ffv2/Li3/3OvltF+rMKW5z97Uf5OP1aF/HqlAr3r48oa7/Rs/WC5/fCjD9oKTBaofIan8vpXxin3//PP/v8YpYDkOn4Z99u3zz+vr7/7V+oaKU6Ef/RMdoW/54eXe9fP57+r/XkdbwuoZZy///77120FJvfA5tcFb/rNFX4UKddT4fL8Pd31400Dl2xaPesj2ZRSl6sfLPsefrShbQXAZ5gr96+fz39X+/M63hYgn68vMDnrRPT52Vf+mbpGLgPKPZgo0FE+CxR+VbAy3p9//vnbSiyvbcdZobN8vdPHVoOjeUf7UZ5TnlvGLVC/B5T6ceSGr89UoGd9zKzn7s/SD1YCHn60gXIP7grslc9yatk7zgpqPUC5XlO+rvfd4St1jVwGlAUwtqeH2yX0ClDujbeekG0BshixPcXcPvddv+8J355+qx6v+LHeW74eAWX5O/3YKuX3VyjQsz6uqOuuz9QPlvMPP9rAVsDx77/3rxsFlAUeHz1k/7nvCpfUNXIZUJbTxHJ6tffxCsDsAdEeUNaeu1fLO7zWE76aLq/4sdWtBpS1527HeKfve/x4p/nS56IfLIf0g+hHG9j+/PP45xnPAGXJw/q5B6y15wqUc7N0KVAenRS+AjC9QFmuOwLZudLPe1rPBl3ALtKP7exqQKkfW6X8/goFetbHFXXd9Zn6wXL+4UcfUO79BzkF6l4BymcYXN/efv6PcMrJ6PNrz/e+25+pa0SgZK3dIdX0hE+gHCL97qA9fuze6ItDFNCPIbK+PKh+vCzdkBsfflwPlAUKywllAcgtIAqUQ2x/adBLgfLopPCVE8pyClagaPtRxn9+rfz56Lnbe9/p+54NuqbLK35s9audUNaeux3jnb7v8eOd5kufi36wHNIPoh+/Q9wW6Nbva289R5xQHgFl7blrbe/2lbpGLgPKvbeo12V0BDB70Ljes/685PZt2yL6MzyW17bXrPe/89ee8EX7sdWzBpT6sVXK769QoGd9XFHXXZ+pHyznH360gfKV/yinnDgWINwDvvI29vYt9PUXmW9fK/c9esj+GHvjvsNr1DVyGVDunR4WqClCPX+u/5V2DUzKElxBdL3/GSZX6FzHYy3bcdX0hG+EH6sP26/bE2P9GOe5I/cr0LM++kfzyrMK6MdZBWPvf/jRBrYCgM9wWCBzu/+v36+/5mfvLewV+NafmVzvKV+ffyflCpnreOu97/61aEH8GFJVz2RfgYlHoH68rOMeNL08WKIb9YNlVo8frIrfuxr9YPmrH0Q/2kD5CtwVr58h8SswuAexX7k/67XUNXIZUJYlU06ret9+LjD4fOL41WV3x/+iuGjUGz79+GqiXru+14/XRveuryqgH19VbOz1+jFW36+O/vCjDZQFzsoJ5fNb0kfQVmCwfB79fc/rd/wPcoou1DVyKVAWmNy+BfrVoH/l+vX/yvKVe97l2t7w6cccx3v9mFONT9EPVgb0g+hHH/gVmHx+27sHDF+5Zn1L/JV7s99DXSOXAiVr2bxvNdTwva/i9ZnpR12f2X+rH7MVrz9PP+r6zP7bhx99QJkd1LLUT10jAuXs1XnB86jhu0AKxCP1A2HDryL045cUiG/0A2HDryIefgiUJNikrhGB8teyed9vqOF7X8XrM9OPuj6z/1Y/Zitef55+1PWZ/bcPPwRKgbKdPIGyrVH6K9ygWRbqh36wFGBV4/og+iFQCpTtXAqUbY3SX+EGzbJQP/SDpQCrGtcH0Q+BUqBs51KgbGuU/go3aJaF+qEfLAVY1bg+iH4IlAJlO5cCZVuj9Fe4QbMs1A/9YCnAqsb1QfRDoBQo27kUKNsapb/CDZploX7oB0sBVjWuD6IfAqVA2c6lQNnWKP0VbtAsC/VDP1gKsKpxfRD9ECgFynYuBcq2RumvcINmWagf+sFSgFWN64Poh0ApULZzKVC2NUp/hRs0y0L90A+WAqxqXB9EPwRKgbKdS4GyrVH6K9ygWRbqh36wFGBV4/og+iFQCpTtXAqUbY3SX+EGzbJQP/SDpQCrGtcH0Q+BUqBs51KgbGuU/go3aJaF+qEfLAVY1bg+iH4IlAJlO5cCZVuj9Fe4QbMs1A/9YCnAqsb1QfRDoBQo27kUKNsapb/CDZploX7oB0sBVjWuD6IfAqVA2c6lQNnWKP0VbtAsC/VDP1gKsKpxfRD9ECgFynYuBcq2RumvcINmWagf+sFSgFWN64Poh0ApULZzKVC2NUp/hRs0y0L90A+WAqxqXB9EPwRKgbKdS4GyrVH6K9ygWRbqh36wFGBV4/og+iFQCpTtXAqUbY3SX+EGzbJQP/SDpQCrGtcH0Q+BUqBs51KgbGuU/go3aJaF+qEfLAVY1bg+iH4IlAJlO5cCZVuj9Fe4QbMs1A/9YCnAqsb1QfRDoBQo27kUKNsapb/CDZploX7oB0sBVjWuD6IfAqVA2c6lQNnWKP0VbtAsC/VDP1gKsKpxfRD9ECgFynYuBcq2RumvcINmWagf+sFSgFWN64Poh0ApULZzKVC2NUp/hRs0y0L90A+WAqxqXB9EPwRKgbKdS4GyrVH6K9ygWRbqh36wFGBV4/og+iFQCpTtXAqUbY3SX+EGzbJQP/SDpQCrGtcH0Q+BUqBs51KgbGuU/go3aJaF+qEfLAVY1bg+iH4IlAJlO5cCZVuj9Fe4QbMs1A/9YCnAqsb1QfRDoBQo27kUKNsapb/CDZploX7oB0sBVjWuD6IfAqVA2c6lQNnWKP0VbtAsC/VDP1gKsKpxfRD9ECgFynYuBcq2RumvcINmWagf+sFSgFWN64Poh0ApULZzKVC2NUp/hRs0y0L90A+WAqxqXB9EPwRKgbKdS4GyrVH6K9ygWRbqh36wFGBV4/og+iFQCpTtXAqUbY3SX+EGzbJQP/SDpQCrGtcH0Q+BUqBs51KgbGuU/go3aJaF+qEfLAVY1bg+iH4IlAJlO5cCZVuj9Fe4QbMs1A/9YCnAqsb1QfRDoBQo27kUKNsapb/CDZploX7oB0sBVjWuD6IfAqVA2c6lQNnWKP0VbtAsC/VDP1gKsKpxfRD9ECgFynYuBcq2RumvcINmWagf+sFSgFWN64Poh0ApULZzKVC2NUp/hRs0y0L90A+WAqxqXB9EPwRKgbKdS4GyrVH6K9ygWRbqh36wFGBV4/og+iFQCpTtXAqUbY3SX+EGzbJQP/SDpQCrGtcH0Q+BUqBs51KgbGuU/go3aJaF+qEfLAVY1bg+iH4IlAJlO5cCZVuj9Fe4QbMs1A/9YCnAqsb1QfRDoBQo27kUKNsapb/CDZploX7oB0sBVjWuD6IfAqVA2c6lQNnWKP0VbtAsC/VDP1gKsKpxfRD9ECgFynYuBcq2RumvcINmWagf+sFSgFWN64Poh0ApULZzKVC2NUp/hRs0y0L90A+WAqxqXB9EPwRKgbKdS4GyrVH6K9ygWRbqh36wFGBV4/og+iFQCpTtXAqUbY3SX+EGzbJQP/SDpQCrGtcH0Q+BUqBs51KgbGuU/go3aJaF+qEfLAVY1bg+iH4IlAJlO5cCZVuj9Fe4QbMs1A/9YCnAqsb1QfRDoBQo27kUKNsapdJIe5gAACAASURBVL/CDZploX7oB0sBVjWuD6IfAqVA2c6lQNnWKP0VbtAsC/VDP1gKsKpxfRD9ECgFynYuBcq2RumvcINmWagf+sFSgFWN64Poh0ApULZzKVC2NUp/hRs0y0L90A+WAqxqXB9EPwRKgbKdS4GyrVH6K9ygWRbqh36wFGBV4/og+iFQCpTtXAqUbY3SX+EGzbJQP/SDpQCrGtcH0Q+BUqBs51KgbGuU/go3aJaF+qEfLAVY1bg+iH4IlAJlO5cCZVuj9Fe4QbMs1A/9YCnAqsb1QfRDoBQo27kUKNsapb/CDZploX7oB0sBVjWuD6IfAqVA2c6lQNnWKP0VbtAsC/VDP1gKsKpxfRD9ECgFynYuBcq2RumvcINmWagf+sFSgFWN64Poh0ApULZzKVC2NUp/hRs0y0L90A+WAqxqXB9EPwRKgbKdS4GyrVH6K9ygWRbqh36wFGBV4/og+iFQCpTtXAqUbY3SX+EGzbJQP/SDpQCrGtcH0Q+BUqBs51KgbGuU/go3aJaF+qEfLAVY1bg+iH4IlAJlO5cCZVuj9Fe4QbMs1A/9YCnAqsb1QfRDoBQo27kUKNsapb/CDZploX7oB0sBVjWuD6IfAqVA2c6lQNnWKP0VbtAsC/VDP1gKsKpxfRD9ECgFynYuBcq2RumvcINmWagf+sFSgFWN64Poh0ApULZzKVC2NUp/hRs0y0L90A+WAqxqXB9EPwRKgbKdS4GyrVH6K9ygWRbqh36wFGBV4/og+iFQCpTtXAqUbY3SX+EGzbJQP/SDpQCrGtcH0Q+BUqBs51KgbGuU/go3aJaF+qEfLAVY1bg+iH4IlAJlO5cCZVuj9Fe4QbMs1A/9YCnAqsb1QfRDoBQo27kUKNsapb/CDZploX7oB0sBVjWuD6IfAqVA2c6lQNnWKP0VbtAsC/VDP1gKsKpxfRD9ECgFynYuBcq2RumvcINmWagf+sFSgFWN64Poh0ApULZzKVC2NUp/hRs0y0L90A+WAqxqXB9EPwRKgbKdS4GyrVH6K9ygWRbqh36wFGBV4/og+iFQCpTtXAqUbY3SX+EGzbJQP/SDpQCrGtcH0Q+BUqBs51KgbGuU/go3aJaF+qEfLAVY1bg+iH4IlAJlO5cCZVuj9Fe4QbMs1A/9YCnAqsb1QfRDoBQo27kUKNsapb/CDZploX7oB0sBVjWuD6IfAqVA2c6lQNnWKP0VbtAsC/VDP1gKsKpxfRD9ECgFynYuBcq2RumvcINmWagf+sFSgFWN64Poh0ApULZzKVC2NUp/hRs0y0L90A+WAqxqXB9EPwRKgbKdS4GyrVH6K9ygWRbqh36wFGBV4/og+iFQCpTtXA4DyrIp+KkGZsAMmAEzYAbMgBmIzUAb7+ZfMQwo50/FJx4pUBayHxwFlo31//7Hzz/8ZGhQ/vGrFxwN9IPjRVkX+sHy48MTTkf7rGQIaQgwnwITvtMPggufNbhBw2DahslqmPqhH/4Dr54B6CGRQPnZ59/2O4GSZa1AKVB6IlrJgEBZh4nZsKUfLD88oWQ19LtVI1CyHBcoKzAxu1l+bM4CHsgTAYYFMPrB8kOgZDX0u1UjULIcFyhB8CJQIpulgA9aIwIlco2wutqjGt/yJroSXJNAGSzoyeEESlCzFCiRzVKgBK0RgRK5Rk62oSG3C5RDZGUNKlDy/LBh2jDNwEEGBBgWwOgHyw/f8t5v6N+/f//5119/7f9l8Ks/fvxYfv1B8LAphhMoWTZ5QnkAEmWjvOLThnmN7kde64d+HGXD1x/Z8L/y/ndTLzBZoHL9KN8vzbZsKH/88fPvv/9e/6rr6z///PPb/c+wWv787du3rrHe6SKBkuWmQHkROB41IwFGgDnKhq8/eqo64NYIq6s9qrnsLe8V/raibMFnPVHcAuf22ufv1/G21z9DaYHJZ8h8Hucd/7zV9R3nl21OAqVAeclJbBYoEPBx8GJeeXsWse9dBpQ9cFfgr/eUsoz3559//qZxeW0LUyt0lq93+thqcKd5U+cqUPI2ZxsmyBOBUqDM8o+fq+r0Le/f23sPLBZALFDY87E33nrKuQXI0sy3p5g9Y2e/RqBkOShQguClNAQBRoC5CgwyPNf1wVofH3sWq6s9qrnshLIFiysMlq89H71A2Xpuz7OyXSNQshwTYARKT0QrGRBgWACjHyw/BMp/N/QCdrWTwvL3vW93l9F7gbJc13vq+e+qc74iULJ8EygrMHHFiY0Nk9Uw9UM/rtgHMj3Tt7x/b+o1oCzQVz6/8iFQHqslUB5rc8XfCJQCpSeUlQwIlAJlJri7olaB8vfWffTWcwHD8ndf/Sinmc/37f2HOkfP/erzMl0vULLcEigrMHHR5izggTwRKAXKK/aBTM8UKH9v6nsnii2Y3IPGddT1Zy63b6OXxv389nZ5bXvNev87fxUoWe4KlCB4KU1EgBFgMsHE7FpdH6z18bFnsbrao5rL/qOc59PDFQiXzb0EePO5/lfaBSgLdB59FFDc3vcMk+sz1vGOxnm314smfnAUWDI6uyn4vOOmYMM81uaK3OiHflyRu0zPhPb0IaTRAzCvwF0Zt9z36sczxL46Trb7evzINqfM9QqUnlD6FnslAwKlQJkJ7q6oVaD8NwKUn2fsffu5wODzieO/R6y/Uk43z45RfwLzbwVKli8CZQUmLtqcBTyQJwKlQHnFPpDpmQLlv5t6gcnn/5Dm31fFvFLe5r4rWN113jHJiR9FoATBS2kiAowAkwkmZtfq+mCtj489K74znR/xsre8z5fuCL0KCJS9Ss25ToARKD0RrWRAgGEBjH6w/BAo5zRqn7KvgEC5r8tVrwqUFZiYffrysTkLeCBPBBgWwOgHyw+B8qrW7XOLAgIlKwcCJQheBEpksxTwQWtEoESuEVZXe1TjW95EV4JrEiiDBT05nEAJapYCJbJZCpSgNSJQItfIyTY05HaBcoisrEEFSp4fNkwbphk4yIAAwwIY/WD54VverIZ+t2oESpbjnlAegETZKK/4tGFeo/uR1/qhH0fZ8PVHNvy1QaymfqdqBEqW2wLlReB41IwEGAHmKBu+7q/VImZAoGQ19TtVI1Cy3BYoBcpLTmKJjXGvJgFfwN/Lha995kKgZDX1O1UjULLcFigFSoGykgGB8hMcCBClHyw/SiYESlZTv1M11PDdyYPtXAXKCkxc0UBtmKyGqR/6ccU+kOmZAuW2pfr9TAUEyplqt58lUAqUnlBWMiBQCpSZ4O6KWgXKdqP1ijEKCJRjdH11VIGyAhMXbc4CHsgTgVKgvGIfyPRMgfLV9ut9ZxUQKM8qGHu/QAmCl9JEBBgBJhNMzK7V9cFaHx97VmxXihnNX2weoyN6FIGSZY8AI1B6IlrJgADDAhj9YPkhULIa+t2qEShZjguUFZiYffrysTkLeCBPBBgWwOgHyw+BktXQ71aNQMlyXKAEwYtAiWyWAj5ojQiUyDXC6mqPanzLm+hKcE0CZbCgJ4cTKEHNUqBENkuBErRGBErkGjnZhobcLlAOkZU1qEDJ88OGacM0AwcZEGBYAKMfLD98y5vV0O9WjUDJctwTygOQKBvlFZ82zGt0P/JaP/TjKBu+/siGvzaI1dTvVI1AyXJboLwIHI+akQAjwBxlw9f9tVrEDAiUrKZ+p2oESpbbAqVAeclJLLEx7tUk4Av4e7nwtc9cCJSspn6nagRKltsCpUApUFYyIFB+ggMBovSD5UfJhEDJaup3qoYavjt5sJ2rQFmBiSsaqA2T1TD1Qz+u2AcyPVOg3LZUv5+pgEA5U+32swRKgdITykoGBEqBMhPcXVGrQNlutF4xRgGBcoyur44qUFZg4qLNWcADeSJQCpRX7AOZnilQvtp+ve+sAgLlWQVj7xcoQfBSmogAI8BkgonZtbo+WOvjY8+K7Uoxo/mLzWN0RI8iULLsEWAESk9EKxkQYFgAox8sPwRKVkO/WzUCJctxgbICE7NPXz42ZwEP5IkAwwIY/WD5IVCyGvrdqhEoWY4LlCB4ESiRzVLAB60RgRK5Rlhd7VGNb3kTXQmuSaAMFvTkcAIlqFkKlMhmKVCC1ohAiVwjJ9vQkNsFyiGysgYVKHl+2DBtmGbgIAMCDAtg9IPlh295sxr63aoRKFmOe0J5ABJlo7zi04Z5je5HXuuHfhxlw9cf2fDXBrGa+p2qEShZbguUF4HjUTMSYASYo2z4ur9Wi5gBgZLV1O9UjUDJclugFCgvOYklNsa9mgR8AX8vF772mQuBktXU71SNQMlyW6AUKAXKSgYEyk9wIECUfrD8KJkQKFlN/U7VUMN3Jw+2cxUoKzBxRQO1YbIapn7oxxX7QKZnCpTblur3MxUQKGeq3X6WQClQekJZyYBAKVBmgrsrahUo243WK8YoIFCO0fXVUQXKCkxctDkLeCBPBEqB8op9INMzBcpX26/3nVVAoDyrYOz9AiUIXkoTEWAEmEwwMbtW1wdrfXzsWbFdKWY0f7F5jI7oUQRKlj0CjEDpiWglAwIMC2D0g+WHQMlq6HerRqBkOS5QVmBi9unLx+Ys4IE8EWBYAKMfLD8ESlZDv1s1AiXLcYESBC8CJbJZCvigNSJQItcIq6s9qvEtb6IrwTUJlMGCnhxOoAQ1S4ES2SwFStAaESiRa+RkGxpyu0A5RFbWoAIlzw8bpg3TDBxkQIBhAYx+sPzwLW9WQ79bNQIly3FPKA9AomyUV3zaMK/R/chr/dCPo2z4+iMb/togVlO/UzUCJcttgfIicDxqRgKMAHOUDV/312oRMyBQspr6naoRKFluC5QC5SUnscTGuFeTgC/g7+XC1z5zIVCymvqdqhEoWW4LlAKlQFnJgED5CQ4EiNIPlh8lEwIlq6nfqRpq+O7kwXauAmUFJq5ooDZMVsPUD/24Yh/I9EyBcttS/X6mAgLlTLXbzxIoBUpPKCsZECgFykxwd0WtAmW70XrFGAUEyjG6vjqqQFmBiYs2ZwEP5IlAKVBesQ9keqZA+Wr79b6zCgiUZxWMvV+gBMFLaSICjACTCSZm1+r6YK2Pjz0rtivFjOYvNo/RET2KQMmyR4ARKD0RrWRAgGEBjH6w/BAoWQ39btUIlCzHBcoKTMw+ffnYnAU8kCcCDAtg9IPlh0DJauh3q0agZDkuUILgRaBENksBH7RGBErkGmF1tUc1vuVNdCW4JoEyWNCTwwmUoGYpUCKbpUAJWiMCJXKNnGxDQ24XKIfIyhpUoOT5YcO0YZqBgwwIMCyA0Q+WH77lzWrod6tGoGQ57gnlAUiUjfKKTxvmNbofea0f+nGUDV9/ZMNfG8Rq6neqRqBkuS1QXgSOR81IgBFgjrLh6/5aLWIGBEpWU79TNQIly22BUqC85CSW2Bj3ahLwBfy9XPjaZy4ESlZTv1M1AiXLbYFSoBQoKxkQKD/BgQBR+sHyo2RCoGQ19TtVQw3fnTzYzlWgrMDEFQ3UhslqmPqhH1fsA5meKVBuW6rfz1RAoJypdvtZAqVA6QllJQMCpUCZCe6uqFWgbDdarxijgEA5RtdXRxUoKzBx0eYs4IE8ESgFyiv2gUzPFChfbb/ed1YBgfKsgrH3C5QgeClNRIARYDLBxOxaXR+s9fGxZ8V2pZjR/MXmMTqiRxEoWfYIMAKlJ6KVDAgwLIDRD5YfAiWrod+tGoGS5bhAWYGJ2acvH5uzgAfyRIBhAYx+sPwQKFkN/W7VCJQsxwVKELwIlMhmKeCD1ohAiVwjrK72qMa3vImuBNckUAYLenI4gRLULAVKZLMUKEFrRKBErpGTbWjI7QLlEFlZgwqUPD9smDZMM3CQAQGGBTD6wfLDt7xZDf1u1QiULMc9oTwAibJRXvFpw7xG9yOv9UM/jrLh649s+GuDWE39TtUIlCy3BcqLwPGoGQkwAsxRNnzdX6tFzIBAyWrqd6pGoGS5LVAKlJecxBIb415NAr6Av5cLX/vMhUDJaup3qkagZLktUAqUAmUlAwLlJzgQIEo/WH6UTAiUrKZ+p2qo4buTB9u5CpQVmLiigdowWQ1TP/Tjin0g0zMFym1L9fuZCgiUM9VuP0ugFCg9oaxkQKAUKDPB3RW1CpTtRusVYxQQKMfo+uqoAmUFJi7anAU8kCcCpUB5xT6Q6ZkC5avt1/vOKiBQnlUw9n6BEgQvpYkIMAJMJpiYXavrg7U+Pvas2K4UM5q/2DxGR/QoAiXLHgFGoPREtJIBAYYFMPrB8kOgZDX0u1UjULIcFygrMDH79OVjcxbwQJ4IMCyA0Q+WHwIlq6HfrRqBkuW4QAmCF4ES2SwFfNAaESiRa4TV1R7V+JY30ZXgmgTKYEFPDidQgpqlQIlslgIlaI0IlMg1crINDbldoBwiK2tQgZLnhw3ThmkGDjIgwLAARj9YfviWN6uh360agZLluCeUByBRNsorPm2Y1+h+5LV+6MdRNnz9kQ1/bRCrqd+pGoGS5bZAeRE4HjUjAUaAOcqGr/trtYgZEChZTf1O1QiULLcFSoHykpNYYmPcq0nAF/D3cuFrn7kQKFlN/U7VCJQstwVKgVKgrGRAoPwEBwJE6QfLj5IJgZLV1O9UDTV8d/JgO1eBsgITVzRQGyarYeqHflyxD2R6pkC5bal+P1MBgXKm2u1nCZQCpSeUlQwIlAJlJri7olaBst1ovWKMAgLlGF1fHVWgrMDERZuzgAfyRKAUKK/YBzI9U6B8tf1631kFBMqzCsbeL1CC4KU0EQFGgMkEE7NrdX2w1sfHnhXblWJG8xebx+iIHkWgZNkjwAiUnohWMiDAsABGP1h+3BEol6ZZguinGpgBM2AGzIAZMANmICwDrGOSRzWeUBJdCa7JE8pgQU8O5wll5XRq9tt5H//a98QQ5An058NOLvu0t9s/eNZRPREoeVkJr4gavvCJJhlQoATBi0Dp23lJ9o2ryrR/XKX88XOpngiUx569zd9Qw/c2An9xIgKlQOmJaCUDnlB+cUcZe7n9Y6y+r4xO9USgfMXNZPdQw5dMxrByBcoKTPiWN+/EcLYnAmXYXhMxkP0jQsXYMaieCJSxPiNHo4YPKdaEogRKgdITykoGBMoJu1D/I+wf/VrNupLqiUA5KwEXPocavgslufTRAmUFJmafhvkzlLwTUYHy0v3p+eH2j2dFrv8z1ROB8vpsDK+AGr7hE4c+QKAUKD2hrGRAoETtXPYPlB1LMVRPBEpeVsIrooYvfKJJBhQoKzDhCSXvxHC2JwIlaiezf6DsWIqheiJQ8rISXhE1fOETTTKgQClQekJZyYBAidrJ7B8oO5ZiqJ4IlLyshFdEDV/4RJMMKFBWYGL2aZg/Q8k7ERUoUTuZ/QNlx1IM1ROBkpeV8Iqo4QufaJIBBUqB0hPKSgYEStROZv9A2bEUQ/VEoORlJbwiavjCJ5pkQIGyAhOeUPJODGd7IlCidjL7B8qOpRiqJwIlLyvhFVHDFz7RJAMKlAKlJ5SVDAiUqJ3M/oGyYymG6olAyctKeEXU8IVPNMmAAmUFJmafhvkzlLwTUYEStZPZP1B2LMVQPREoeVkJr4gavvCJJhlQoBQoPaGsZECgRO1k9g+UHUsxVE8ESl5Wwiuihi98okkGFCgrMOEJJe/EcLYnAiVqJ7N/oOxYiqF6IlDyshJeETV84RNNMqBAKVB6QlnJgECJ2snsHyg7lmKongiUvKyEV0QNX/hEkwwoUFZgYvZpmD9DyTsRFShRO5n9A2XHUgzVE4GSl5XwiqjhC59okgEFSoHSE8pKBgRK1E5m/0DZsRRD9USg5GUlvCJq+MInmmRAgbICE55Q8k4MZ3siUKJ2MvsHyo6lGKonAiUvK+EVUcMXPtEkAwqUAqUnlJUMCJSoncz+gbJjKYbqiUDJy0p4RdTwhU80yYACZQUmZp+G+TOUvBNRgRK1k9k/UHYsxVA9ESh5WQmviBq+8IkmGVCgFCg9oaxkQKBE7WT2D5QdSzFUTwRKXlbCK6KGL3yiSQYUKCsw4Qkl78RwticCJWons3+g7FiKoXoiUPKyEl4RNXzhE00yoEApUHpCWcmAQInayewfKDuWYqieCJS8rIRXRA1f+ESTDChQVmBi9mmYP0PJOxEVKFE7mf0DZcdSDNUTgZKXlfCKqOELn2iSAQVKgdITykoGBErUTmb/QNmxFEP1RKDkZSW8Imr4wieaZECBsgITnlDyTgxneyJQonYy+wfKjqUYqicCJS8r4RVRwxc+0SQDCpQCpSeUlQwIlKidzP6BsmMphuqJQMnLSnhF1PCFTzTJgAJlBSZmn4b5M5S8E1GBErWT2T9QdizFUD0RKHlZCa+IGr7wiSYZUKAUKD2hrGRAoETtZPYPlB1LMVRPBEpeVsIrooYvfKJJBhQoKzDhCSXvxHC2JwIlaiezf6DsWIqheiJQ8rISXhE1fOETTTKgQClQekJZyYBAidrJ7B8oO5ZiqJ4IlLyshFdEDV/4RJMMKFBWYGL2aZg/Q8k7ERUoUTuZ/QNlx1IM1ROBkpeV8Iqo4QufaJIBBUqB0hPKSgYEStROZv9A2bEUQ/VEoORlJbwiavjCJ5pkQIGyAhOeUPJODGd7IlCidjL7B8qOpRiqJwIlLyvhFVHDFz7RJAMKlAKlJ5SVDAiUqJ3M/oGyYymG6olAyctKeEXU8IVPNMmAAmUFJmafhvkzlLwTUYEStZPZP1B2LMVQPREoeVkJr4gavvCJJhlQoBQoPaGsZECgRO1k9g+UHUsxVE8ESl5Wwiuihi98okkGFCgrMOEJJe/EcLYnAiVqJ7N/oOxYiqF6IlDyshJeETV84RNNMqBAKVB6QlnJgECJ2snsHyg7lmKongiUvKyEV0QNX/hEkwwoUFZgYvZpmD9DyTsRFShRO5n9A2XHUgzVE4GSl5XwiqjhC59okgEFSoHSE8pKBgRK1E5m/0DZsRRD9USg5GUlvCJq+MInmmRAgbICE55Q8k4MZ3siUKJ2MvsHyo6lGKonAiUvK+EVUcMXPtEkAwqUAqUnlJUMCJSoncz+gbJjKYbqiUDJy0p4RdTwhU80yYACZQUmZp+G+TOUvBNRgRK1k9k/UHYsxVA9ESh5WQmviBq+8IkmGVCgFCg9oaxkQKBE7WT2D5QdSzFUTwRKXlbCK6KGL3yiSQYUKCsw4Qkl78RwticCJWons3+g7FiKoXoiUPKyEl4RNXzhE00yoEApUHpCWcmAQInayewfKDuWYqieCJS8rIRXRA1f+ESTDChQVmBi9mmYP0PJOxEVKFE7mf0DZcdSDNUTgZKXlfCKqOELn2iSAQVKgdITykoGBErUTmb/QNmxFEP1RKDkZSW8Imr4wieaZECBsgITnlDyTgxneyJQonYy+wfKjqUYqicCJS8r4RVRwxc+0SQDCpQCpSeUlQwIlKidzP6BsmMphuqJQMnLSnhF1PCFTzTJgAJlBSZmn4b5M5S8E1GBErWT2T9QdizFUD0RKHlZCa+IGr7wiSYZUKAUKD2hrGRAoETtZPYPlB1LMVRPBEpeVsIrooYvfKJJBhQoKzDhCSXvxHC2JwIlaiezf6DsWIqheiJQ8rISXhE1fOETTTKgQClQekJZyYBAidrJ7B8oO5ZiqJ4IlLyshFdEDV/4RJMMKFBWYGL2aZg/Q8k7ERUoUTuZ/QNlx1IM1ROBkpeV8Iqo4QufaJIBBUqB0hPKSgYEStROZv9A2bEUQ/VEoORlJbwiavjCJ5pkQIGyAhOeUPJODGd7IlCidjL7B8qOpRiqJwIlLyvhFVHDFz7RJAMKlAKlJ5SVDAiUqJ3M/oGyYymG6olAyctKeEXU8IVPNMmAAmUFJmafhvkzlLwTUYEStZPZP1B2LMVQPREoeVkJr4gavvCJJhlQoBQoPaGsZECgRO1k9g+UHUsxVE8ESl5Wwiuihi98okkGFCgrMOEJJe/EcLYnAiVqJ7N/oOxYiqF6IlDyshJeETV84RNNMqBAKVB6QlnJgECJ2snsHyg7lmKongiUvKyEV0QNX/hEkwwoUFZgYvZpmD9DyTsRFShRO5n9A2XHUgzVE4GSl5XwiqjhC59okgEFSoHSE8pKBgRK1E5m/0DZsRRD9USg5GUlvCJq+MInmmRAgbICE55Q8k4MZ3siUKJ2MvsHyo6lGKonAiUvK+EVUcMXPtEkAwqUAqUnlJUMCJSoncz+gbJjKYbqiUDJy0p4RdTwhU80yYACZQUmZp+G+TOUvBNRgRK1k9k/UHYsxVA9ESh5WQmviBq+8IkmGVCgFCg9oaxkQKBE7WT2D5QdSzFUTwRKXlbCK6KGL3yiSQYUKCsw4Qkl78RwticCJWons3+g7FiKoXoiUPKyEl4RNXzhE00yoEApUHpCWcmAQInayewfKDuWYqieCJS8rIRXRA1f+ESTDChQVmBi9mmYP0PJOxEVKFE7mf0DZcdSDNUTgZKXlfCKqOELn2iSAQVKgdITykoGBErUTmb/QNmxFEP1RKDkZSW8Imr4wieaZECBsgITnlDyTgxneyJQonYy+wfKjqUYqicCJS8r4RVRwxc+0SQDCpQCpSeUlQwIlKidzP6BsmMphuqJQMnLSnhF1PCFTzTJgAJlBSZmn4b5M5S8E1GBErWT2T9QdizFUD0RKHlZCa+IGr7wiSYZUKAUKD2hrGRAoETtZPYPlB1LMVRPBEpeVsIrooYvfKJJBhQoKzDhCSXvxHC2JwIlaiezf6DsWIqheiJQ8rISXhE1fOETTTKgQClQekJZyYBAidrJ7B8oO5ZiqJ4IlLyshFdEDV/4RJMMKFBWYGL2aZg/Q8k7ERUoUTuZ/QNlx1IM1ROBkpeV8Iqo4QufaJIBBUqB0hPKSgYEStROZv9A2bEUQ/VEoORlJbwiavjCJ5pkQIGyAhOeUPJODGd7IlCidjL7B8qOpRiqJwIlLyvhFVHDFz7RJAMKlAKlJ5SVDAiUqJ3M/oGyYymG6olAyctKeEXUeHc12wAAIABJREFU8IVPNMmAAmUFJmafhvkzlLwTUYEStZPZP1B2LMVQPREoeVkJr4gavvCJJhlQoBQoPaGsZECgRO1k9g+UHUsxVE8ESl5Wwiuihi98okkGFCgrMOEJJe/EcLYnAiVqJ7N/oOxYiqF6IlDyshJeETV84RNNMqBAKVB6QlnJgECJ2snsHyg7lmKongiUvKyEV0QNX/hEkwwoUFZgYvZpmD9DyTsRFShRO5n9A2XHUgzVE4GSl5XwiqjhC59okgEFSoHSE8pKBgRK1E5m/0DZsRRD9USg5GUlvCJq+MInmmRAgbICE55Q8k4MZ3siUKJ2MvsHyo6lGKonAiUvK+EVUcMXPtEkAwqUAqUnlJUMCJSoncz+gbJjKYbqiUDJy0p4RdTwhU80yYACZQUmZp+G+TOUvBNRgRK1k9k/UHYsxVA9ESh5WQmviBq+8IkmGVCgFCg9oaxkQKBE7WT2D5QdSzFUTwRKXlbCK6KGL3yiSQYUKCsw4Qkl78RwticCJWons3+g7FiKoXoiUPKyEl4RNXzhE00yoEApUHpCWcmAQInayewfKDuWYqieCJS8rIRXRA1f+ESTDChQVmBi9mmYP0PJOxEVKFE7mf0DZcdSDNUTgZKXlfCKqOELn2iSAQVKgdITykoGBErUTmb/QNmxFEP1RKDkZSW8Imr4wieaZECBsgITnlDyTgxneyJQonYy+wfKjqUYqicCJS8r4RVRwxc+0SQDCpQCpSeUlQwIlKidzP6BsmMphuqJQMnLSnhF1PCFTzTJgAJlBSZmn4b5M5S8E1GBErWT2T9QdizFUD0RKHlZCa+IGr7wiSYZUKAUKD2hrGRAoETtZPYPlB1LMVRPBEpeVsIrooYvfKJJBhQoKzDhCSXvxHC2JwIlaiezf6DsWIqheiJQ8rISXhE1fOETTTKgQClQekJZyYBAidrJ7B8oO5ZiqJ4IlLyshFdEDV/4RJMMKFBWYGL2aZg/Q8k7ERUoUTuZ/QNlx1IM1ROBkpeV8Iqo4QufaJIBBUqB0hPKSgYEStROZv9A2bEUQ/VEoORlJbwiavjCJ5pkQIGyAhOeUPJODGd7IlCidjL7B8qOpRiqJwIlLyvhFVHDFz7RJAMKlAKlJ5SVDAiUqJ3M/oGyYymG6olAyctKeEXU8IVPNMmAAmUFJmafhvkzlLwTUYEStZPZP1B2LMVQPREoeVkJr4gavvCJJhlQoBQoPaGsZECgRO1k9g+UHUsxVE8ESl5Wwiuihi98okkGFCgrMOEJJe/EcLYnAiVqJ7N/oOxYiqF6IlDyshJeETV84RNNMqBAKVB6QlnJgECJ2snsHyg7lmKongwDyqVp/vHHT7+qgRkwA2bADJgBM2AG4jLAw9yfP4cBJXGyd62pLGI/OAosm+rstxF93vFbyeUfvurD0UA/OF6UdWH/4DSPj0qongwhDepkcamYVJB+TBK68zHFDwGm8pbnbLjTD1Ye9QPnR+fW5mWTFKD2dIFyUgCufAw1fFdqcuWzBUoQTH6cwAj4IE8ESoHyyg06wbOpPV2gTBCesyVSw3d2XlnvFyhB8CJQsuBFP5B+ZN1r37Vuak8XKN81cZt5UcO3KfFW3wqUAqUnopUMeELJgkp/hhLXn6g9XaDERSW+IGr44meaY0SBsgITs39+0hMxFrzoB9KPHDvrfaqk9nSB8gYZpIbvBtLvTlGgFCg9oaxkwBNKFlR6Qrm7j1/5IrWnC5RXpmLSs6nhmzR93GMEygpMeELJggn90A+BEtlDcEX99PdQEj0Jr0mgDJf01IACpUDpCWUlA55QsiBWoDy134+4mdrTPaEc4TZsTGr4YDJNK0egrMCEJ2IsmNAP/RAop/WG3gdRe7pA2etg4uuo4Uss6anSBUqB0hPKSgY8oWRBrEB5ar8fcTO1pwuUI9yGjUkNH0ymaeUIlBWY8ESMBRP6oR8C5bTe0Psgak8XKHsdTHwdNXyJJT1VukApUHpCWcmAJ5QsiBUoT+33I26m9nSBcoTbsDGp4YPJNK0cgbICE56IsWBCP/RDoJzWG3ofRO3pAmWvg4mvo4YvsaSnShcoBUpPKCsZ8ISSBbEC5an9fsTN1J4uUI5wGzYmNXwwmaaVI1BWYMITMRZM6Id+CJTTekPvg6g9XaDsdTDxddTwJZb0VOkCpUDpCWUlA55QsiBWoDy134+4mdrTBcoRbsPGpIYPJtO0cgTKCkx4IsaCCf3QD4FyWm/ofRC1pwuUvQ4mvo4avsSSnipdoBQoPaGsZMATShbECpSn9vsRN1N7ukA5wm3YmNTwwWSaVo5AWYEJT8RYMKEf+iFQTusNvQ+i9nSBstfBxNdRw5dY0lOlC5QCpSeUlQx4QsmCWIHy1H4/4mZqTxcoR7gNG5MaPphM08oRKCsw4YkYCyb0Qz8Eymm9ofdB1J4uUPY6mPg6avgSS3qqdIFSoPSEspIBTyhZECtQntrvR9xM7ekC5Qi3YWNSwweTaVo5AmUFJjwRY8GEfuiHQDmtN/Q+iNrTBcpeBxNfRw1fYklPlS5QCpSeUFYy4AklC2IFylP7/YibqT1doBzhNmxMavhgMk0rR6CswIQnYiyY0A/9ECin9YbeB1F7ukDZ62Di66jhSyzpqdIFSoHSE8pKBjyhZEGsQHlqvx9xM7WnC5Qj3IaNSQ0fTKZp5QiUFZjwRIwFE/qhHwLltN7Q+yBqTxcoex1MfB01fIklPVW6QClQekJZyYAnlCyIFShP7fcjbqb2dIFyhNuwManhg8k0rRyBsgITnoixYEI/9EOgnNYbeh9E7ekCZa+Dia+jhi+xpKdKFygFSk8oKxnwhJIFsQLlqf1+xM3Uni5QjnAbNiY1fDCZppUjUFZgwhMxFkzoh34IlNN6Q++DqD1doOx1MPF11PAllvRU6QKlQOkJZSUDnlCyIFagPLXfj7iZ2tMFyhFuw8akhg8m07RyBMoKTHgixoIJ/dAPgXJab+h9ELWnC5S9Dia+jhq+xJKeKl2gFCg9oaxkwBNKFsQKlKf2+xE3U3u6QDnCbdiY1PDBZJpWjkBZgQlPxFgwoR/6IVBO6w29D6L2dIGy18HE11HDl1jSU6ULlAKlJ5SVDHhCyYJYgfLUfj/iZmpPFyhHuA0bkxo+mEzTyhEoKzDhiRgLJvRDPwTKab2h90HUni5Q9jqY+Dpq+BJLeqp0gVKg9ISykgFPKFkQK1Ce2u9H3Ezt6QLlCLdhY1LDB5NpWjkCZQUmPBFjwYR+6IdAOa039D6I2tMFyl4HE19HDV9iSU+VLlAKlJ5QVjLgCSULYgXKU/v9iJupPV2gHOE2bExq+GAyTStHoKzAhCdiLJjQD/0QKKf1ht4HUXu6QNnrYOLrqOFLLOmp0gVKgdITykoGPKFkQaxAeWq/H3EztacLlCPcho1JDR9MpmnlCJQVmPBEjAUT+qEfAuW03tD7IGpPFyh7HUx8HTV8iSU9VbpAKVB6QlnJgCeULIgVKE/t9yNupvZ0gXKE27AxqeGDyTStHIGyAhOeiLFgQj/0Q6Cc1ht6H0Tt6QJlr4OJr6OGL7Gkp0oXKAVKTygrGfCEkgWxAuWp/X7EzdSeLlCOcBs2JjV8MJmmlSNQVmDCEzEWTOiHfgiU03pD74OoPV2g7HUw8XXU8CWW9FTpAqVA6QllJQOeULIgVqA8td+PuJna0wXKEW7DxqSGDybTtHIEygpMeCLGggn90A+Bclpv6H0QtacLlL0OJr6OGr7Ekp4qXaAUKD2hrGTAE0oWxAqUp/b7ETdTe7pAOcJt2JjU8MFkmlaOQFmBCU/EWDChH/ohUE7rDb0PovZ0gbLXwcTXUcOXWNJTpQuUAqUnlJUMeELJgliB8tR+P+Jmak8XKEe4DRuTGj6YTNPKESgrMOGJGAsm9EM/BMppvaH3QdSeLlD2Opj4Omr4Ekt6qnSBUqD0hLKSAU8oWRArUJ7a70fcTO3pAuUIt2FjUsMHk2laOQJlBSY8EWPBhH7oh0A5rTf0Poja0wXKXgcTX0cNX2JJT5UuUAqUnlBWMuAJJQtiBcpT+/2Im6k9XaAc4TZsTGr4YDJNK0egrMCEJ2IsmNAP/RAop/WG3gdRe7pA2etg4uuo4Uss6anSBUqB0hPKSgY8oWRBrEB5ar8fcTO1pwuUI9yGjUkNH0ymaeUIlBWY8ESMBRP6oR8C5bTe0Psgak8XKHsdTHwdNXyJJT1VukApUHpCWcmAJ5QsiBUoT+33I26m9nSBcoTbsDGp4YPJNK0cgbICE56IsWBCP/RDoJzWG3ofRO3pAmWvg4mvo4YvsaSnShcoBUpPKCsZ8ISSBbEC5an9fsTN1J4uUI5wGzYmNXwwmaaVI1BWYMITMRZM6Id+CJTTekPvg6g9XaDsdTDxddTwJZb0VOkCpUDpCWUlA55QsiBWoDy134+4mdrTBcoRbsPGpIYPJtO0cgTKCkx4IsaCCf3QD4FyWm/ofRC1pwuUvQ4mvo4avsSSnipdoBQoPaGsZMATShbECpSn9vsRN1N7ukA5wm3YmNTwwWSaVo5AWYEJT8RYMKEf+iFQTusNvQ+i9nSBstfBxNdRw5dY0lOlC5QCpSeUlQx4QsmCWIHy1H4/4mZqTxcoR7gNG5MaPphM08oRKCsw4YkYCyb0Qz8Eymm9ofdB1J4uUPY6mPg6avgSS3qqdIFSoPSEspIBTyhZECtQntrvR9xM7ekC5Qi3YWNSwweTaVo5AmUFJjwRY8GEfuiHQDmtN/Q+iNrTBcpeBxNfRw1fYklPlS5QCpSeUFYy4AklC2IFylP7/YibqT1doBzhNmxMavhgMk0rR6CswIQnYiyY0A/9ECin9YbeB1F7ukDZ62Di66jhSyzpqdIFSoHSE8pKBjyhZEGsQHlqvx9xM7WnC5Qj3IaNSQ0fTKZp5QiUFZjwRIwFE/qhHwLltN7Q+yBqTxcoex1MfB01fIklPVW6QClQekJZyYAnlCyIFShP7fcjbqb2dIFyhNuwManhg8k0rRyBsgITnoixYEI/9EOgnNYbeh9E7ekCZa+Dia+jhi+xpKdKFygFSk8oKxnwhJIFsQLlqf1+xM3Uni5QjnAbNiY1fDCZppUjUFZgwhMxFkzoh34IlNN6Q++DqD1doOx1MPF11PAllvRU6QKlQOkJZSUDnlCyIFagPLXfj7iZ2tMFyhFuw8akhg8m07RyBMoKTHgixoIJ/dAPgXJab+h9ELWnC5S9Dia+jhq+xJKeKl2gFCg9oaxkwBNKFsQKlKf2+xE3U3u6QDnCbdiY1PDBZJpWjkBZgQlPxFgwoR/6IVBO6w29D6L2dIGy18HE11HDl1jSU6ULlAKlJ5SVDHhCyYJYgfLUfj/iZmpPFyhHuA0bkxo+mEzTyhEoKzDhiRgLJvRDPwTKab2h90HUni5Q9jqY+Dpq+BJLeqp0gVKg9ISykgFPKFkQK1Ce2u9H3Ezt6QLlCLdhY1LDB5NpWjkCZQUmPBFjwYR+6IdAOa039D6I2tMFyl4HE19HDV9iSU+VLlAKlJ5QVjLgCSULYgXKU/v9iJupPV2gHOE2bExq+GAyTStHoKzAhCdiLJjQD/0QKKf1ht4HUXu6QNnrYOLrqOFLLOmp0gVKgdITykoGPKFkQaxAeWq/H3EztacLlCPcho1JDR9MpmnlCJQVmPBEjAUT+qEfAuW03tD7IGpPFyh7HUx8HTV8iSU9VbpAKVB6QlnJgCeULIgVKE/t9yNupvZ0gXKE27AxqeGDyTStHIGyAhOeiLFgQj/0Q6Cc1ht6H0Tt6QJlr4OJr6OGL7Gkp0oXKAVKTygrGfCEkgWxAuWp/X7EzdSeLlCOcBs2JjV8MJmmlSNQVmDCEzEWTOiHfgiU03pD74OoPV2g7HUw8XXU8CWW9FTpAqVA6QllJQOeULIgVqA8td+PuJna0wXKEW7DxqSGDybTtHIEygpMeCLGggn90A+Bclpv6H0QtacLlL0OJr6OGr7Ekp4qXaAUKD2hrGTAE0oWxAqUp/b7ETdTe7pAOcJt2JjU8MFkmlaOQFmBCU/EWDChH/ohUE7rDb0PovZ0gbLXwcTXUcOXWNJTpQuUAqUnlJUMeELJgliB8tR+P+Jmak8XKEe4DRuTGj6YTNPKESgrMOGJGAsm9EM/BMppvaH3QdSeLlD2Opj4Omr4Ekt6qnSBUqD0hLKSAU8oWRArUJ7a70fcTO3pAuUIt2FjUsMHk2laOQJlBSY8EWPBhH7oh0A5rTf0Poja0wXKXgcTX0cNX2JJT5UuUAqUnlBWMuAJJQtiBcpT+/2Im6k9XaAc4TZsTGr4YDJNK0egrMCEJ2IsmNAP/RAop/WG3gdRe7pA2etg4uuo4Uss6anSBUqB0hPKSgY8oWRBrEB5ar8fcTO1pwuUI9yGjUkNH0ymaeUIlBWY8ESMBRP6oR8C5bTe0Psgak8XKHsdTHwdNXyJJT1VukApUHpCWcmAJ5QsiBUoT+33I26m9nSBcoTbsDGp4YPJNK0cgbICE56IsWBCP/RDoJzWG3ofRO3pAmWvg4mvo4YvsaSnShcoBUpPKCsZ8ISSBbEC5an9fsTN1J4uUI5wGzYmNXwwmaaVI1BWYMITMRZM6Id+CJTTekPvg6g9XaDsdTDxddTwJZb0VOkCpUDpCWUlA55QsiBWoDy134+4mdrThwHl0jTLxuCnGpgBM2AGzIAZMANmICwDI0D17JjDgPJsYd4fpwD1XzNxM8w1kn6w/NIP/WApwKrG9cHyo1RD9USg5GUlvCJq+MInmmRA/WAZpR/6wVKAVY3rg+VHqYbqiUDJy0p4RdTwhU80yYD6wTJKP/SDpQCrGtcHy49SDdUTgZKXlfCKqOELn2iSAfWDZZR+6AdLAVY1rg+WH6UaqicCJS8r4RVRwxc+0SQD6gfLKP3QD5YCrGpcHyw/SjVUTwRKXlbCK6KGL3yiSQbUD5ZR+qEfLAVY1bg+WH6UaqieCJS8rIRXRA1f+ESTDKgfLKP0Qz9YCrCqcX2w/CjVUD25FCi/f//+86+//pri1o8fP7AmjBaAGr7R86aOrx8sZ/RDP1gKsKr5yvqwp8/x7iuezKno8ZRLgbLAZAng+vHnn38u0FfEWj+/ffu2/nXz6z///PPrvnL/M6yWP39lvOYDk1xADV8S+cLL1I9wSU8NqB+n5Au/WT/CJT014Ff8iOzpz/281FE+y+HQ+mFPX5VgfL0MKNewbGUoQPkq8K3jbQG1hO/vv//+9Ygy9jNk/vrLN/7mKxvCG8uAmZp+YKxYCtEP/WApwKqmd32sPXhbfURP3wLkduzyvT39WZFr/3wZUO4F4Uz4ynjl/u1HeW27GNbAl693+thqcKd5U+eqHyxn9EM/WAqwquldH9E9fe3XNaBcr7GnMzJzGVCWk8Lt6WGR4wxQ7o23/tzkNmxlcWxPMRk2jK2id0MYW4Wjrwrox6oE46t+MHxYq9CPVQnG114/9nrwmZ6+wmINKItCpT57OiQrI8roCeBe0Mpr5d71s/y592MvzHtAuffc3mdkva7Hj6xzy1i3frBc0w/9YCnAqqZ3fez11jM9fQXK8vz18/kQqii191yWgvHV9HoS/+T6iJedUJYQtP5VUa4poNjz0QuU5bpyNH+nD2r47uTBdq76sVXj+u/143oPthXox1aN67/v9SO6pz/PfAXM5/5tT39W6ro/o4GyAGdvmAXK4xD1ang8gn8TqYB+RKp5fiz9OK9h5Aj6Eanm+bF6/egByq/09L3Kywll6fXbD4Fyq8a1318KlM//0niW4ivhK0Ergd5+lPGfXyt/bj13O8Y7fN+7IbzDXDPMQT9YLumHfrAUYFXTuz56eutXevqeCntA2fPcvbEyv9bryew5XgaUzyeK5ecdn38+ooi2fW0PGlfB1p+XLIFdP8r9z/BYXttes177zl+p4XtnzWtz04+aOvP/Tj/ma157on7U1Jn/d71+RPf00ru3vXqvxxc1Sn3b6+YrNP+JvZ7MruwyoDw6PSxCrZ/PMLj3r5OtYCVU673l6/P9ayC3/9X39v53/b5o4QdHAf3geFEq0Q/9YCnAqqZ3fUT39PVnJsvz18/Sw7cf9vStGtd/P4Q0egL4ShDKuM+B+oqEe4H/yv1Zr+3xI+vcMtatHyzX9EM/WAqwquldH/b0eb71ejKvoseTLgPK8vjysw+9R9UFBp9PHL8q1h1/eLdoRA3fV/17l+v1g+WkfugHSwFWNV9ZH/b0Od59xZM5FT2ecilQFpgsAZzxsR6fz3gW7RnU8NF0mlWPfsxSuu85+tGn06yr9GOW0n3P+Yof9vQ+Tc9e9RVPzj7rK/dfCpRfKdRrX1eAGr7XZ5T7Tv1g+acf+sFSgFWN64PlR6mG6olAyctKeEXU8IVPNMmA+sEySj/0g6UAqxrXB8uPUg3VE4GSl5XwiqjhC59okgH1g2WUfugHSwFWNa4Plh+lGqonAiUvK+EVUcMXPtEkA+oHyyj90A+WAqxqXB8sP0o1VE8ESl5Wwiuihi98okkG1A+WUfqhHywFWNW4Plh+lGqongiUvKyEV0QNX/hEkwyoHyyj9EM/WAqwqnF9sPwo1VA9ESh5WQmviBq+8IkmGVA/WEbph36wFGBV4/pg+VGqoXoiUPKyEl4RNXzhE00yoH6wjNIP/WApwKrG9cHyo1RD9USg5GUlvCJq+MInmmRA/WAZpR/6wVKAVY3rg+VHqYbqiUDJy0p4RdTwhU80yYD6wTJKP/SDpQCrGtcHy49SDdUTgZKXlfCKqOELn2iSAfWDZZR+6AdLAVY1rg+WH6UaqicCJS8r4RVRwxc+0SQD6gfLKP3QD5YCrGpcHyw/SjVUTwRKXlbCK6KGL3yiSQbUD5ZR+qEfLAVY1bg+WH6UaqieCJS8rIRXRA1f+ESTDKgfLKP0Qz9YCrCqcX2w/CjVUD0RKHlZCa+IGr7wiSYZUD9YRumHfrAUYFXj+mD5UaqheiJQ8rISXhE1fOETTTKgfrCM0g/9YCnAqsb1wfKjVEP1RKDkZSW8Imr4wieaZED9YBmlH/rBUoBVjeuD5UephuqJQMnLSnhF1PCFTzTJgPrBMko/9IOlAKsa1wfLj1IN1ROBkpeV8Iqo4QufaJIB9YNllH7oB0sBVjWuD5YfpRqqJwIlLyvhFVHDFz7RJAPqB8so/dAPlgKsalwfLD9KNVRPBEpeVsIrooYvfKJJBtQPllH6oR8sBVjVuD5YfpRqqJ4IlLyshFdEDV/4RJMMqB8so/RDP1gKsKpxfbD8KNVQPREoeVkJr4gavvCJJhlQP1hG6Yd+sBRgVeP6YPlRqqF6IlDyshJeETV84RNNMqB+sIzSD/1gKcCqxvXB8qNUQ/VEoORlJbwiavjCJ5pkQP1gGaUf+sFSgFWN64PlR6mG6olAyctKeEXU8IVPNMmA+sEySj/0g6UAqxrXB8uPUg3VE4GSl5XwiqjhC59okgH1g2WUfugHSwFWNa4Plh+lGqonAiUvK+EVUcMXPtEkA+oHyyj90A+WAqxqXB8sP0o1VE8ESl5Wwiuihi98okkG1A+WUfqhHywFWNW4Plh+lGqongiUvKyEV0QNX/hEkwyoHyyj9EM/WAqwqnF9sPwo1VA9ESh5WQmviBq+8IkmGVA/WEbph36wFGBV4/pg+VGqoXoiUPKyEl4RNXzhE00yoH6wjNIP/WApwKrG9cHyo1RD9USg5GUlvCJq+MInmmRA/WAZpR/6wVKAVY3rg+VHqYbqiUDJy0p4RdTwhU80yYD6wTJKP/SDpQCrGtcHy49SDdUTgZKXlfCKqOELn2iSAfWDZZR+6AdLAVY1rg+WH6UaqicCJS8r4RVRwxc+0SQD6gfLKP3QD5YCrGpcHyw/SjVUTwRKXlbCK6KGL3yiSQbUD5ZR+qEfLAVY1bg+WH6UaqieCJS8rIRXRA1f+ESTDKgfLKP0Qz9YCrCqcX2w/CjVUD0RKHlZCa+IGr7wiSYZUD9YRumHfrAUYFXj+mD5UaqheiJQ8rISXhE1fOETTTKgfrCM0g/9YCnAqsb1wfKjVEP1RKDkZSW8Imr4wieaZED9YBmlH/rBUoBVjeuD5UephuqJQMnLSnhF1PCFTzTJgPrBMko/9IOlAKsa1wfLj1IN1ROBkpeV8Iqo4QufaJIB9YNllH7oB0sBVjWuD5YfpRqqJwIlLyvhFVHDFz7RJAPqB8so/dAPlgKsalwfLD9KNVRPBEpeVsIrooYvfKJJBtQPllH6oR8sBVjVuD5YfpRqqJ4IlLyshFdEDV/4RJMMqB8so/RDP1gKsKpxfbD8KNVQPREoeVkJr4gavvCJJhlQP1hG6Yd+sBRgVeP6YPlRqqF6IlDyshJeETV84RNNMqB+sIzSD/1gKcCqxvXB8qNUQ/VEoORlJbwiavjCJ5pkQP1gGaUf+sFSgFWN64PlR6mG6olAyctKeEXU8IVPNMmA+sEySj/0g6UAqxrXB8uPUg3VE4GSl5XwiqjhC59okgH1g2WUfugHSwFWNa4Plh+lGqonAiUvK+EVUcMXPtEkA+oHyyj90A+WAqxqXB8sP0o1VE8ESl5Wwiuihi98okkG1A+WUfqhHywFWNW4Plh+lGqongiUvKyEV0QNX/hEkwyoHyyj9EM/WAqwqnF9sPwo1VA9ESh5WQmviBq+8IkmGVA/WEbph36wFGBV4/pg+VGqoXoiUPKyEl4RNXzhE00yoH6wjNIP/WApwKrG9cHyo1RD9USg5GUlvCJq+MInmmRA/WAZpR/6wVKAVY3rg+VHqYbqiUDJy0p4RdTwhU80yYD6wTJKP/SDpQCrGtcHy49SDdUTgZKXlfCKqOELn2iSAfWDZZR+6AdLAVY1rg+WH6UaqicCJS8r4RVRwxc+0SQD6gfLKP3QD5YCrGpcHyw/SjVUTwRKXlbCK6KGL3yiSQbUD5ZR+qEfLAVY1bg+WH6UaqieCJS8rIRXRA1f+EQFyET3AAAGQklEQVSTDKgfLKP0Qz9YCrCqcX2w/CjVUD0RKHlZCa+IGr7wiSYZUD9YRumHfrAUYFXj+mD5UaqheiJQ8rISXhE1fOETTTKgfrCM0g/9YCnAqsb1wfKjVEP1RKDkZSW8Imr4wieaZED9YBmlH/rBUoBVjeuD5UephuqJQMnLSnhF1PCFTzTJgPrBMko/9IOlAKsa1wfLj1IN1ROBkpeV8Iqo4QufaJIB9YNllH7oB0sBVjWuD5YfpRqqJwIlLyvhFVHDFz7RJAPqB8so/dAPlgKsalwfLD9KNVRPBEpeVsIrooYvfKJJBtQPllH6oR8sBVjVuD5YfpRqqJ4IlLyshFdEDV/4RJMMqB8so/RDP1gKsKpxfbD8KNVQPREoeVkJr4gavvCJJhlQP1hG6Yd+sBRgVeP6YPlRqqF6IlDyshJeETV84RNNMqB+sIzSD/1gKcCqxvXB8qNUQ/VEoORlJbwiavjCJ5pkQP1gGaUf+sFSgFWN64PlR6mG6olAyctKeEXU8IVPNMmA+sEySj/0g6UAqxrXB8uPUg3VE4GSl5XwiqjhC59okgH1g2WUfugHSwFWNa4Plh+lGqonAiUvK+EVUcMXPtEkA+oHyyj90A+WAqxqXB8sP0o1VE8ESl5Wwiuihi98okkG1A+WUfqhHywFWNW4Plh+lGqongiUvKyEV0QNX/hEkwyoHyyj9EM/WAqwqnF9sPwo1VA9ESh5WQmviBq+8IkmGVA/WEbph36wFGBV4/pg+VGqoXoiUPKyEl4RNXzhE00yoH6wjNIP/WApwKrG9cHyo1RD9USg5GUlvCJq+MInmmRA/WAZpR/6wVKAVY3rg+VHqYbqiUDJy0p4RdTwhU80yYD6wTJKP/SDpQCrGtcHy49SDdUTgZKXlfCKqOELn2iSAfWDZZR+6AdLAVY1rg+WH6UaqicCJS8r4RVRwxc+0SQD6gfLKP3QD5YCrGpcHyw/SjVUTwRKXlbCK6KGL3yiSQbUD5ZR+qEfLAVY1bg+WH6UaqieCJS8rIRXRA1f+ESTDKgfLKP0Qz9YCrCqcX2w/CjVUD0RKHlZCa+IGr7wiSYZUD9YRumHfrAUYFXj+mD5UaqheiJQ8rISXhE1fOETTTKgfrCM0g/9YCnAqsb1wfKjVEP1RKDkZSW8Imr4wieaZED9YBmlH/rBUoBVjeuD5UephuqJQMnLSnhF1PCFTzTJgPrBMko/9IOlAKsa1wfLj1IN1ROBkpeV8Iqo4QufaJIB9YNllH7oB0sBVjWuD5YfpRqqJwIlLyvhFVHDFz7RJAPqB8so/dAPlgKsalwfLD9KNVRPhgFlmbCfamAGzIAZMANmwAyYgdgM8DD3588hQEmcqDWpgAqogAqogAqogAqMUUCgHKOro6qACqiACqiACqjAbRQQKG9jtRNVARVQARVQARVQgTEKCJRjdHVUFVABFVABFVABFbiNAgLlbax2oiqgAiqgAiqgAiowRgGBcoyujqoCKqACKqACKqACt1FAoLyN1U5UBVRABVRABVRABcYoIFCO0dVRVUAFVEAFVEAFVOA2CgiUt7HaiaqACqiACqiACqjAGAUEyjG6OqoKqIAKqIAKqIAK3EYBgfI2VjtRFVABFVABFVABFRijgEA5RldHVQEVUAEVUAEVUIHbKCBQ3sZqJ6oCKqACKqACKqACYxQQKMfo6qgqoAIqoAIqoAIqcBsFBMrbWO1EVUAFVEAFVEAFVGCMAgLlGF0dVQVUQAVUQAVUQAVuo4BAeRurnagKqIAKqIAKqIAKjFFAoByjq6OqgAqogAqogAqowG0UEChvY7UTVQEVUAEVUAEVUIExCgiUY3R1VBVQARVQARVQARW4jQIC5W2sdqIqoAIqoAIqoAIqMEYBgXKMro6qAiqgAiqgAiqgArdRQKC8jdVOVAVUQAVUQAVUQAXGKCBQjtHVUVVABVRABVRABVTgNgoIlLex2omqgAqogAqogAqowBgFBMoxujqqCqiACqiACqiACtxGAYHyNlY7URVQARVQARVQARUYo4BAOUZXR1UBFVABFVABFVCB2yggUN7GaieqAiqgAiqgAiqgAmMUECjH6OqoKqACKqACKqACKnAbBQTK21jtRFVABVRABVRABVRgjAL/P6lXH93DfFg+AAAAAElFTkSuQmCC)"
      ]
    },
    {
      "cell_type": "markdown",
      "metadata": {
        "id": "7v5MQsZm7GBc"
      },
      "source": [
        "### 4.1 (20%): Environment\n",
        "Given a state and an action, write a function that returns all possible next-states and the corresponding rewards, it's\n",
        "-100 if an agent moves into swamp, and all other transitions are -1.\n",
        "\n",
        "The input state is a list, and the action should be chosen from the variable 'ACTIONS'.\n",
        "\n",
        "And the output is a list with [next_state1, reward1, next_state2, reward2].\n",
        "\n",
        "Use the following logic in order: \n",
        "1. perform the action\n",
        "2. check if the state is out of bound -> this should be one of the return state\n",
        "3. get blown\n",
        "4. check if the state is out of bound -> this should be the other state to return\n",
        "\n",
        "---\n",
        "\n"
      ]
    },
    {
      "cell_type": "markdown",
      "metadata": {
        "id": "U8OhvKMZ7F6Y"
      },
      "source": [
        "For example, \n",
        "\n",
        "input = [1,5], ACTIONS[3]\n",
        "\n",
        "output = [[2,5], -100, [2,5], -100]\n",
        "\n",
        "\n",
        "\n",
        "---\n",
        "\n",
        "\n",
        "input = [5,5], ACTIONS[0]\n",
        "\n",
        "output = [[5,4], -1, [5,5], -1]\n",
        "\n",
        "\n",
        "---\n",
        "\n",
        "\n",
        "input = [3,2], ACTIONS[2]\n",
        "\n",
        "output = [[3,3], -100, [3,4], -1]\n",
        "\n",
        "\n",
        "---\n",
        "\n",
        "\n",
        "input = [0,5], ACTIONS[2]\n",
        "\n",
        "output = [[0,5], -100, [0,5], -100]\n",
        "\n",
        "\n",
        "---\n",
        "\n",
        "input = [0,0], ACTIONS[0]\n",
        "\n",
        "output = [[0,0], -1, [0,1], -1]\n"
      ]
    },
    {
      "cell_type": "code",
      "execution_count": null,
      "metadata": {
        "id": "BIKZ3bE9QYWH"
      },
      "outputs": [],
      "source": [
        "ACTIONS = [np.array([0, -1]), np.array([-1, 0]), np.array([0, 1]), np.array([1, 0])] # left, up, right, down"
      ]
    },
    {
      "cell_type": "code",
      "execution_count": null,
      "metadata": {
        "id": "vV48mVFf7Fs9"
      },
      "outputs": [],
      "source": [
        "def problem4_1(state, action):\n",
        "  ###### Your code here ######\n",
        "\n",
        "\n",
        "    return  #something\n",
        "  ################################"
      ]
    },
    {
      "cell_type": "markdown",
      "metadata": {
        "id": "UkWkyh0Z7p2V"
      },
      "source": [
        "#### Test your function"
      ]
    },
    {
      "cell_type": "code",
      "execution_count": null,
      "metadata": {
        "id": "M2sCE1ge7tCY"
      },
      "outputs": [],
      "source": [
        "print(problem4_1([1,5], ACTIONS[3]))\n",
        "print(problem4_1([5,5], ACTIONS[0]))\n",
        "print(problem4_1([3,2], ACTIONS[2]))\n",
        "print(problem4_1([0,5], ACTIONS[2]))\n",
        "print(problem4_1([0,0], ACTIONS[0]))"
      ]
    },
    {
      "cell_type": "markdown",
      "metadata": {
        "id": "oDQ-tYcU9pvR"
      },
      "source": [
        "###4.2 (10%): Policy evaluation using dynamic programming\n",
        "Using the function in 4.1, evaluate the equiprobable random policy in this environment, i.e., every action has 25% chance to be chosen.\n",
        "\n",
        "Use the Bellman equation with transition probabilities to calculate the result.\n",
        "\n",
        "Note that the discount rate is 1, and the value of the terminal state should always be zero."
      ]
    },
    {
      "cell_type": "code",
      "execution_count": null,
      "metadata": {
        "id": "MRtw4UpS7uYX"
      },
      "outputs": [],
      "source": [
        "def problem4_2():\n",
        "    value = np.zeros((6, 6))\n",
        "    while True:\n",
        "        # keeping iterating until convergence\n",
        "        new_value = np.zeros((6, 6))\n",
        "\n",
        "        ###### Your code here ######\n",
        "        \n",
        "        ################################\n",
        "        \n",
        "        if np.sum(np.abs(new_value - value)) < 1e-4:\n",
        "          return new_value\n",
        "\n",
        "        value = new_value\n",
        "\n",
        "    return value"
      ]
    },
    {
      "cell_type": "markdown",
      "metadata": {
        "id": "NoFTwm9Vb1pC"
      },
      "source": [
        "#### Test your function\n",
        "No test data.\n",
        "\n",
        "<font color=#FF0000>\n",
        "\n",
        "**You need to give the correct answer in this problem.**\n",
        "</font>\n",
        "\n",
        "\n",
        "(Hint: We provide some final values that may help you check your result.\n",
        "\n",
        "value[2, 6] = 0, value[1, 1] = -752.28, value[6, 6] = -809.5) "
      ]
    },
    {
      "cell_type": "code",
      "execution_count": null,
      "metadata": {
        "id": "DdMwtUNjNLpH"
      },
      "outputs": [],
      "source": [
        "draw_image(problem4_2())"
      ]
    },
    {
      "cell_type": "markdown",
      "metadata": {
        "id": "EQqBAKJ5gz2t"
      },
      "source": [
        "###4.3 (10%): Policy improvement\n",
        "Use dynamic programming to find an optimal policy in this environment.\n",
        "\n",
        "You should calculate the q_value with Bellman equation and use the function from 4.1."
      ]
    },
    {
      "cell_type": "code",
      "execution_count": null,
      "metadata": {
        "id": "7vlV7VkcL6OX"
      },
      "outputs": [],
      "source": [
        "def problem4_3():\n",
        "    q_value = np.zeros((6,6,4))\n",
        "    while True:\n",
        "        # keeping iterating until convergence\n",
        "        new_q_value = np.zeros((6,6,4))\n",
        "\n",
        "        ###### Your code here ######\n",
        "        \n",
        "        ################################\n",
        "            \n",
        "        \n",
        "        if np.sum(np.abs(new_q_value - q_value)) < 1e-4:\n",
        "          return new_q_value\n",
        "\n",
        "        q_value = new_q_value\n",
        "\n",
        "    return q_value"
      ]
    },
    {
      "cell_type": "markdown",
      "metadata": {
        "id": "vb73aFbjmbmD"
      },
      "source": [
        "#### Test your function\n",
        "No test data.\n",
        "\n",
        "<font color=#FF0000>\n",
        "\n",
        "**You need to give the correct answer in this problem.**\n",
        "</font>\n",
        "\n",
        "\n",
        "(Hint: We provide some final values that may help you check your result.\n",
        "\n",
        "q_value[1, 5] = [0, 0, 0, 0], q_value[0, 0] = [-4.9, -4.9, -53.7, -4.2], \n",
        "\n",
        "q_value[5, 5] = [-18.9, -20.9, -19.9, -19.9])"
      ]
    },
    {
      "cell_type": "code",
      "execution_count": null,
      "metadata": {
        "id": "bCmficmmE-_z"
      },
      "outputs": [],
      "source": [
        "def drawTable(data):\n",
        "  fig = plt.figure()\n",
        "  ax = plt.Axes(fig, [0., 0., 1., 1.])\n",
        "  ax.set_axis_off()\n",
        "  fig.add_axes(ax)\n",
        "  plt.gca().invert_yaxis()\n",
        "  for i in range(data.shape[0]):\n",
        "    for j in range(data.shape[0]):\n",
        "      plt.plot((i,i),(j,j+1),'-k')\n",
        "      plt.plot((i,i+1),(j,j+1),'-k')\n",
        "      plt.plot((i,i+1),(j,j),'-k')\n",
        "      plt.plot((i+1,i),(j,j+1),'-k')\n",
        "      plt.plot((i+1,i+1),(j,j+1),'-k')\n",
        "      plt.plot((i,i+1),(j+1,j+1),'-k')\n",
        "      temp = max(data[j][i])\n",
        "      if data[j][i][0]==temp:\n",
        "        plt.gca().add_patch(plt.Polygon([[i+0.5,j+0.5], [i,j], [i,j+1]], color='yellow'))\n",
        "      if data[j][i][1]==temp:\n",
        "        plt.gca().add_patch(plt.Polygon([[i+0.5,j+0.5], [i,j], [i+1,j]], color='yellow'))\n",
        "      if data[j][i][2]==temp:\n",
        "        plt.gca().add_patch(plt.Polygon([[i+0.5,j+0.5], [i+1,j], [i+1,j+1]], color='yellow'))\n",
        "      if data[j][i][3]==temp:\n",
        "        plt.gca().add_patch(plt.Polygon([[i+0.5,j+0.5], [i,j+1], [i+1,j+1]], color='yellow'))\n",
        "\n",
        "      plt.text(i+0.2,j+0.5,'%.1f' %data[j][i][0], verticalalignment='center', horizontalalignment='center')\n",
        "      plt.text(i+0.5,j+0.2,'%.1f' %data[j][i][1], verticalalignment='center', horizontalalignment='center')\n",
        "      plt.text(i+0.8,j+0.5,'%.1f' %data[j][i][2], verticalalignment='center', horizontalalignment='center')\n",
        "      plt.text(i+0.5,j+0.8,'%.1f' %data[j][i][3], verticalalignment='center', horizontalalignment='center')\n",
        "\n",
        "  plt.show()"
      ]
    },
    {
      "cell_type": "code",
      "execution_count": null,
      "metadata": {
        "id": "u4PvXQH9NWAB"
      },
      "outputs": [],
      "source": [
        "drawTable(problem4_3())"
      ]
    },
    {
      "cell_type": "markdown",
      "metadata": {
        "id": "Gz_UumMOYIpY"
      },
      "source": [
        "# Submission\n",
        "\n",
        "'files' -> 'download' -> 'download .ipynb'\n",
        "\n",
        "\n",
        "\n",
        "\n",
        "\n",
        "\n",
        "\n",
        "\n",
        "\n",
        "\n",
        "\n",
        "\n",
        "\n",
        "\n",
        "\n",
        "\n",
        "\n",
        "\n",
        "\n",
        "\n",
        "\n",
        "\n",
        "\n",
        "\n",
        "\n",
        "\n",
        "\n",
        "\n",
        "\n",
        "\n",
        "\n",
        "\n",
        "\n",
        "\n",
        "\n",
        "\n",
        "\n",
        "\n",
        "\n",
        "\n",
        "\n",
        "\n",
        "\n",
        "\n",
        "\n",
        "\n",
        "\n",
        "\n"
      ]
    },
    {
      "cell_type": "markdown",
      "metadata": {
        "id": "9FxhwOX3Zw0e"
      },
      "source": [
        "![image.png](data:image/png;base64,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)\n",
        "\n",
        "\n",
        "\n",
        "\n",
        "\n",
        "\n",
        "\n",
        "\n",
        "\n",
        "\n",
        "\n",
        "\n",
        "\n",
        "\n",
        "\n",
        "\n",
        "\n",
        "\n",
        "\n",
        "\n",
        "\n",
        "\n",
        "\n",
        "\n",
        "\n",
        "\n",
        "\n",
        "\n",
        "\n",
        "\n",
        "\n",
        "\n",
        "\n",
        "\n",
        "\n",
        "\n",
        "\n",
        "\n",
        "\n",
        "\n",
        "\n"
      ]
    },
    {
      "cell_type": "markdown",
      "metadata": {
        "id": "A08wYrTOZ5eh"
      },
      "source": [
        "Rename the file to 'exam1_{your name}.ipynb' and submit it to eeclass -> homework -> exam1."
      ]
    }
  ],
  "metadata": {
    "colab": {
      "collapsed_sections": [],
      "provenance": [],
      "toc_visible": true
    },
    "kernelspec": {
      "display_name": "Python 3",
      "name": "python3"
    },
    "language_info": {
      "name": "python"
    }
  },
  "nbformat": 4,
  "nbformat_minor": 0
}